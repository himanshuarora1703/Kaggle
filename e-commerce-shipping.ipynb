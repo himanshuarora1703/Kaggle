{
 "cells": [
  {
   "cell_type": "code",
   "execution_count": 1,
   "id": "aac33fb6",
   "metadata": {
    "_cell_guid": "b1076dfc-b9ad-4769-8c92-a6c4dae69d19",
    "_uuid": "8f2839f25d086af736a60e9eeb907d3b93b6e0e5",
    "execution": {
     "iopub.execute_input": "2023-03-08T15:48:35.789692Z",
     "iopub.status.busy": "2023-03-08T15:48:35.789216Z",
     "iopub.status.idle": "2023-03-08T15:48:35.816795Z",
     "shell.execute_reply": "2023-03-08T15:48:35.815809Z"
    },
    "papermill": {
     "duration": 0.039583,
     "end_time": "2023-03-08T15:48:35.819452",
     "exception": false,
     "start_time": "2023-03-08T15:48:35.779869",
     "status": "completed"
    },
    "tags": []
   },
   "outputs": [
    {
     "name": "stdout",
     "output_type": "stream",
     "text": [
      "/kaggle/input/shipping-ecommerce/shipping_ecommerce.csv\n"
     ]
    }
   ],
   "source": [
    "# This Python 3 environment comes with many helpful analytics libraries installed\n",
    "# It is defined by the kaggle/python Docker image: https://github.com/kaggle/docker-python\n",
    "# For example, here's several helpful packages to load\n",
    "\n",
    "import numpy as np # linear algebra\n",
    "import pandas as pd # data processing, CSV file I/O (e.g. pd.read_csv)\n",
    "\n",
    "# Input data files are available in the read-only \"../input/\" directory\n",
    "# For example, running this (by clicking run or pressing Shift+Enter) will list all files under the input directory\n",
    "\n",
    "\n",
    "import os\n",
    "for dirname, _, filenames in os.walk('/kaggle/input'):\n",
    "    for filename in filenames:\n",
    "        print(os.path.join(dirname, filename))\n",
    "\n",
    "# You can write up to 20GB to the current directory (/kaggle/working/) that gets preserved as output when you create a version using \"Save & Run All\" \n",
    "# You can also write temporary files to /kaggle/temp/, but they won't be saved outside of the current session"
   ]
  },
  {
   "cell_type": "code",
   "execution_count": 2,
   "id": "1efc7e20",
   "metadata": {
    "execution": {
     "iopub.execute_input": "2023-03-08T15:48:35.835756Z",
     "iopub.status.busy": "2023-03-08T15:48:35.834947Z",
     "iopub.status.idle": "2023-03-08T15:48:36.998483Z",
     "shell.execute_reply": "2023-03-08T15:48:36.996948Z"
    },
    "papermill": {
     "duration": 1.17476,
     "end_time": "2023-03-08T15:48:37.001313",
     "exception": false,
     "start_time": "2023-03-08T15:48:35.826553",
     "status": "completed"
    },
    "tags": []
   },
   "outputs": [],
   "source": [
    "import matplotlib.pyplot as plt\n",
    "import seaborn as sns"
   ]
  },
  {
   "cell_type": "code",
   "execution_count": 3,
   "id": "2f05de5a",
   "metadata": {
    "execution": {
     "iopub.execute_input": "2023-03-08T15:48:37.017261Z",
     "iopub.status.busy": "2023-03-08T15:48:37.016854Z",
     "iopub.status.idle": "2023-03-08T15:48:37.021810Z",
     "shell.execute_reply": "2023-03-08T15:48:37.020824Z"
    },
    "papermill": {
     "duration": 0.015465,
     "end_time": "2023-03-08T15:48:37.023823",
     "exception": false,
     "start_time": "2023-03-08T15:48:37.008358",
     "status": "completed"
    },
    "tags": []
   },
   "outputs": [],
   "source": [
    "import ipywidgets as widgets"
   ]
  },
  {
   "cell_type": "code",
   "execution_count": 4,
   "id": "39e91abb",
   "metadata": {
    "execution": {
     "iopub.execute_input": "2023-03-08T15:48:37.039673Z",
     "iopub.status.busy": "2023-03-08T15:48:37.038747Z",
     "iopub.status.idle": "2023-03-08T15:48:37.095413Z",
     "shell.execute_reply": "2023-03-08T15:48:37.093783Z"
    },
    "papermill": {
     "duration": 0.06765,
     "end_time": "2023-03-08T15:48:37.098587",
     "exception": false,
     "start_time": "2023-03-08T15:48:37.030937",
     "status": "completed"
    },
    "tags": []
   },
   "outputs": [
    {
     "data": {
      "text/html": [
       "<div>\n",
       "<style scoped>\n",
       "    .dataframe tbody tr th:only-of-type {\n",
       "        vertical-align: middle;\n",
       "    }\n",
       "\n",
       "    .dataframe tbody tr th {\n",
       "        vertical-align: top;\n",
       "    }\n",
       "\n",
       "    .dataframe thead th {\n",
       "        text-align: right;\n",
       "    }\n",
       "</style>\n",
       "<table border=\"1\" class=\"dataframe\">\n",
       "  <thead>\n",
       "    <tr style=\"text-align: right;\">\n",
       "      <th></th>\n",
       "      <th>Customer_care_calls</th>\n",
       "      <th>Customer_rating</th>\n",
       "      <th>Prior_purchases</th>\n",
       "      <th>Discount_offered</th>\n",
       "      <th>Weight_in_gms</th>\n",
       "      <th>Warehouse_block</th>\n",
       "      <th>Mode_of_Shipment</th>\n",
       "      <th>Product_importance</th>\n",
       "      <th>Gender</th>\n",
       "      <th>Class</th>\n",
       "    </tr>\n",
       "  </thead>\n",
       "  <tbody>\n",
       "    <tr>\n",
       "      <th>0</th>\n",
       "      <td>5</td>\n",
       "      <td>4</td>\n",
       "      <td>2</td>\n",
       "      <td>10</td>\n",
       "      <td>5395</td>\n",
       "      <td>A</td>\n",
       "      <td>Ship</td>\n",
       "      <td>medium</td>\n",
       "      <td>M</td>\n",
       "      <td>1</td>\n",
       "    </tr>\n",
       "    <tr>\n",
       "      <th>1</th>\n",
       "      <td>4</td>\n",
       "      <td>3</td>\n",
       "      <td>2</td>\n",
       "      <td>6</td>\n",
       "      <td>5867</td>\n",
       "      <td>F</td>\n",
       "      <td>Ship</td>\n",
       "      <td>medium</td>\n",
       "      <td>F</td>\n",
       "      <td>0</td>\n",
       "    </tr>\n",
       "    <tr>\n",
       "      <th>2</th>\n",
       "      <td>3</td>\n",
       "      <td>4</td>\n",
       "      <td>2</td>\n",
       "      <td>2</td>\n",
       "      <td>5957</td>\n",
       "      <td>D</td>\n",
       "      <td>Ship</td>\n",
       "      <td>medium</td>\n",
       "      <td>M</td>\n",
       "      <td>0</td>\n",
       "    </tr>\n",
       "    <tr>\n",
       "      <th>3</th>\n",
       "      <td>3</td>\n",
       "      <td>1</td>\n",
       "      <td>2</td>\n",
       "      <td>27</td>\n",
       "      <td>2551</td>\n",
       "      <td>D</td>\n",
       "      <td>Ship</td>\n",
       "      <td>medium</td>\n",
       "      <td>M</td>\n",
       "      <td>1</td>\n",
       "    </tr>\n",
       "    <tr>\n",
       "      <th>4</th>\n",
       "      <td>7</td>\n",
       "      <td>5</td>\n",
       "      <td>4</td>\n",
       "      <td>9</td>\n",
       "      <td>1329</td>\n",
       "      <td>B</td>\n",
       "      <td>Ship</td>\n",
       "      <td>medium</td>\n",
       "      <td>M</td>\n",
       "      <td>1</td>\n",
       "    </tr>\n",
       "  </tbody>\n",
       "</table>\n",
       "</div>"
      ],
      "text/plain": [
       "   Customer_care_calls  Customer_rating  Prior_purchases  Discount_offered  \\\n",
       "0                    5                4                2                10   \n",
       "1                    4                3                2                 6   \n",
       "2                    3                4                2                 2   \n",
       "3                    3                1                2                27   \n",
       "4                    7                5                4                 9   \n",
       "\n",
       "   Weight_in_gms Warehouse_block Mode_of_Shipment Product_importance Gender  \\\n",
       "0           5395               A             Ship             medium      M   \n",
       "1           5867               F             Ship             medium      F   \n",
       "2           5957               D             Ship             medium      M   \n",
       "3           2551               D             Ship             medium      M   \n",
       "4           1329               B             Ship             medium      M   \n",
       "\n",
       "   Class  \n",
       "0      1  \n",
       "1      0  \n",
       "2      0  \n",
       "3      1  \n",
       "4      1  "
      ]
     },
     "execution_count": 4,
     "metadata": {},
     "output_type": "execute_result"
    }
   ],
   "source": [
    "# load the dataset\n",
    "\n",
    "df = pd.read_csv('/kaggle/input/shipping-ecommerce/shipping_ecommerce.csv')\n",
    "\n",
    "df.head()"
   ]
  },
  {
   "cell_type": "code",
   "execution_count": 5,
   "id": "6b0e761d",
   "metadata": {
    "execution": {
     "iopub.execute_input": "2023-03-08T15:48:37.114496Z",
     "iopub.status.busy": "2023-03-08T15:48:37.114105Z",
     "iopub.status.idle": "2023-03-08T15:48:37.140408Z",
     "shell.execute_reply": "2023-03-08T15:48:37.138556Z"
    },
    "papermill": {
     "duration": 0.037395,
     "end_time": "2023-03-08T15:48:37.143238",
     "exception": false,
     "start_time": "2023-03-08T15:48:37.105843",
     "status": "completed"
    },
    "tags": []
   },
   "outputs": [
    {
     "name": "stdout",
     "output_type": "stream",
     "text": [
      "<class 'pandas.core.frame.DataFrame'>\n",
      "RangeIndex: 10998 entries, 0 to 10997\n",
      "Data columns (total 10 columns):\n",
      " #   Column               Non-Null Count  Dtype \n",
      "---  ------               --------------  ----- \n",
      " 0   Customer_care_calls  10998 non-null  int64 \n",
      " 1   Customer_rating      10998 non-null  int64 \n",
      " 2   Prior_purchases      10998 non-null  int64 \n",
      " 3   Discount_offered     10998 non-null  int64 \n",
      " 4   Weight_in_gms        10998 non-null  int64 \n",
      " 5   Warehouse_block      10998 non-null  object\n",
      " 6   Mode_of_Shipment     10998 non-null  object\n",
      " 7   Product_importance   10998 non-null  object\n",
      " 8   Gender               10998 non-null  object\n",
      " 9   Class                10998 non-null  int64 \n",
      "dtypes: int64(6), object(4)\n",
      "memory usage: 859.3+ KB\n"
     ]
    }
   ],
   "source": [
    "# check the dtypes and missing values\n",
    "\n",
    "df.info()"
   ]
  },
  {
   "cell_type": "code",
   "execution_count": 6,
   "id": "a98e8643",
   "metadata": {
    "execution": {
     "iopub.execute_input": "2023-03-08T15:48:37.159887Z",
     "iopub.status.busy": "2023-03-08T15:48:37.158681Z",
     "iopub.status.idle": "2023-03-08T15:48:37.175654Z",
     "shell.execute_reply": "2023-03-08T15:48:37.174815Z"
    },
    "papermill": {
     "duration": 0.027162,
     "end_time": "2023-03-08T15:48:37.177619",
     "exception": false,
     "start_time": "2023-03-08T15:48:37.150457",
     "status": "completed"
    },
    "tags": []
   },
   "outputs": [
    {
     "data": {
      "text/plain": [
       "1"
      ]
     },
     "execution_count": 6,
     "metadata": {},
     "output_type": "execute_result"
    }
   ],
   "source": [
    "# check for duplicate values\n",
    "\n",
    "df.duplicated(subset=df.columns[0:9]).sum()"
   ]
  },
  {
   "cell_type": "markdown",
   "id": "3e0d1b75",
   "metadata": {
    "papermill": {
     "duration": 0.006718,
     "end_time": "2023-03-08T15:48:37.191654",
     "exception": false,
     "start_time": "2023-03-08T15:48:37.184936",
     "status": "completed"
    },
    "tags": []
   },
   "source": [
    "There is one entry in the data that is duplicated"
   ]
  },
  {
   "cell_type": "code",
   "execution_count": 7,
   "id": "66ee2cff",
   "metadata": {
    "execution": {
     "iopub.execute_input": "2023-03-08T15:48:37.208589Z",
     "iopub.status.busy": "2023-03-08T15:48:37.208015Z",
     "iopub.status.idle": "2023-03-08T15:48:37.224921Z",
     "shell.execute_reply": "2023-03-08T15:48:37.224083Z"
    },
    "papermill": {
     "duration": 0.027346,
     "end_time": "2023-03-08T15:48:37.226846",
     "exception": false,
     "start_time": "2023-03-08T15:48:37.199500",
     "status": "completed"
    },
    "tags": []
   },
   "outputs": [
    {
     "data": {
      "text/html": [
       "<div>\n",
       "<style scoped>\n",
       "    .dataframe tbody tr th:only-of-type {\n",
       "        vertical-align: middle;\n",
       "    }\n",
       "\n",
       "    .dataframe tbody tr th {\n",
       "        vertical-align: top;\n",
       "    }\n",
       "\n",
       "    .dataframe thead th {\n",
       "        text-align: right;\n",
       "    }\n",
       "</style>\n",
       "<table border=\"1\" class=\"dataframe\">\n",
       "  <thead>\n",
       "    <tr style=\"text-align: right;\">\n",
       "      <th></th>\n",
       "      <th>Customer_care_calls</th>\n",
       "      <th>Customer_rating</th>\n",
       "      <th>Prior_purchases</th>\n",
       "      <th>Discount_offered</th>\n",
       "      <th>Weight_in_gms</th>\n",
       "      <th>Warehouse_block</th>\n",
       "      <th>Mode_of_Shipment</th>\n",
       "      <th>Product_importance</th>\n",
       "      <th>Gender</th>\n",
       "      <th>Class</th>\n",
       "    </tr>\n",
       "  </thead>\n",
       "  <tbody>\n",
       "    <tr>\n",
       "      <th>5670</th>\n",
       "      <td>4</td>\n",
       "      <td>4</td>\n",
       "      <td>2</td>\n",
       "      <td>6</td>\n",
       "      <td>5221</td>\n",
       "      <td>F</td>\n",
       "      <td>Ship</td>\n",
       "      <td>medium</td>\n",
       "      <td>F</td>\n",
       "      <td>0</td>\n",
       "    </tr>\n",
       "    <tr>\n",
       "      <th>7662</th>\n",
       "      <td>4</td>\n",
       "      <td>4</td>\n",
       "      <td>2</td>\n",
       "      <td>6</td>\n",
       "      <td>5221</td>\n",
       "      <td>F</td>\n",
       "      <td>Ship</td>\n",
       "      <td>medium</td>\n",
       "      <td>F</td>\n",
       "      <td>0</td>\n",
       "    </tr>\n",
       "  </tbody>\n",
       "</table>\n",
       "</div>"
      ],
      "text/plain": [
       "      Customer_care_calls  Customer_rating  Prior_purchases  Discount_offered  \\\n",
       "5670                    4                4                2                 6   \n",
       "7662                    4                4                2                 6   \n",
       "\n",
       "      Weight_in_gms Warehouse_block Mode_of_Shipment Product_importance  \\\n",
       "5670           5221               F             Ship             medium   \n",
       "7662           5221               F             Ship             medium   \n",
       "\n",
       "     Gender  Class  \n",
       "5670      F      0  \n",
       "7662      F      0  "
      ]
     },
     "execution_count": 7,
     "metadata": {},
     "output_type": "execute_result"
    }
   ],
   "source": [
    "# check for the duplicate entry\n",
    "\n",
    "df[df.duplicated(subset=df.columns[0:9],keep=False)]"
   ]
  },
  {
   "cell_type": "markdown",
   "id": "7b878aeb",
   "metadata": {
    "papermill": {
     "duration": 0.007235,
     "end_time": "2023-03-08T15:48:37.241427",
     "exception": false,
     "start_time": "2023-03-08T15:48:37.234192",
     "status": "completed"
    },
    "tags": []
   },
   "source": [
    "As there is only one duplicate entry in the data of index number 5670 and 7662, the second similar entry in the data can be removed."
   ]
  },
  {
   "cell_type": "code",
   "execution_count": 8,
   "id": "d4da3023",
   "metadata": {
    "execution": {
     "iopub.execute_input": "2023-03-08T15:48:37.258647Z",
     "iopub.status.busy": "2023-03-08T15:48:37.258070Z",
     "iopub.status.idle": "2023-03-08T15:48:37.269776Z",
     "shell.execute_reply": "2023-03-08T15:48:37.268231Z"
    },
    "papermill": {
     "duration": 0.023579,
     "end_time": "2023-03-08T15:48:37.272598",
     "exception": false,
     "start_time": "2023-03-08T15:48:37.249019",
     "status": "completed"
    },
    "tags": []
   },
   "outputs": [],
   "source": [
    "# remove the duplicate value from the data\n",
    "\n",
    "df.drop_duplicates(subset=df.columns[0:9],keep='first',inplace=True)"
   ]
  },
  {
   "cell_type": "code",
   "execution_count": 9,
   "id": "d4ea7ef5",
   "metadata": {
    "execution": {
     "iopub.execute_input": "2023-03-08T15:48:37.290312Z",
     "iopub.status.busy": "2023-03-08T15:48:37.289356Z",
     "iopub.status.idle": "2023-03-08T15:48:37.302973Z",
     "shell.execute_reply": "2023-03-08T15:48:37.301799Z"
    },
    "papermill": {
     "duration": 0.025159,
     "end_time": "2023-03-08T15:48:37.305770",
     "exception": false,
     "start_time": "2023-03-08T15:48:37.280611",
     "status": "completed"
    },
    "tags": []
   },
   "outputs": [
    {
     "data": {
      "text/plain": [
       "0"
      ]
     },
     "execution_count": 9,
     "metadata": {},
     "output_type": "execute_result"
    }
   ],
   "source": [
    "# confirm the removal of duplicate entry\n",
    "\n",
    "df.duplicated(subset=df.columns[0:9]).sum()"
   ]
  },
  {
   "cell_type": "code",
   "execution_count": 10,
   "id": "1ea29e26",
   "metadata": {
    "execution": {
     "iopub.execute_input": "2023-03-08T15:48:37.323082Z",
     "iopub.status.busy": "2023-03-08T15:48:37.322637Z",
     "iopub.status.idle": "2023-03-08T15:48:37.329053Z",
     "shell.execute_reply": "2023-03-08T15:48:37.327672Z"
    },
    "papermill": {
     "duration": 0.018332,
     "end_time": "2023-03-08T15:48:37.331769",
     "exception": false,
     "start_time": "2023-03-08T15:48:37.313437",
     "status": "completed"
    },
    "tags": []
   },
   "outputs": [
    {
     "data": {
      "text/plain": [
       "(10997, 10)"
      ]
     },
     "execution_count": 10,
     "metadata": {},
     "output_type": "execute_result"
    }
   ],
   "source": [
    "# shape of the dataframe\n",
    "\n",
    "df.shape"
   ]
  },
  {
   "cell_type": "code",
   "execution_count": 11,
   "id": "633a96e2",
   "metadata": {
    "execution": {
     "iopub.execute_input": "2023-03-08T15:48:37.348920Z",
     "iopub.status.busy": "2023-03-08T15:48:37.348478Z",
     "iopub.status.idle": "2023-03-08T15:48:37.358549Z",
     "shell.execute_reply": "2023-03-08T15:48:37.357808Z"
    },
    "papermill": {
     "duration": 0.021682,
     "end_time": "2023-03-08T15:48:37.361140",
     "exception": false,
     "start_time": "2023-03-08T15:48:37.339458",
     "status": "completed"
    },
    "tags": []
   },
   "outputs": [
    {
     "data": {
      "text/plain": [
       "Customer_care_calls    0\n",
       "Customer_rating        0\n",
       "Prior_purchases        0\n",
       "Discount_offered       0\n",
       "Weight_in_gms          0\n",
       "Warehouse_block        0\n",
       "Mode_of_Shipment       0\n",
       "Product_importance     0\n",
       "Gender                 0\n",
       "Class                  0\n",
       "dtype: int64"
      ]
     },
     "execution_count": 11,
     "metadata": {},
     "output_type": "execute_result"
    }
   ],
   "source": [
    "# check for missing values in the data\n",
    "\n",
    "df.isna().sum()"
   ]
  },
  {
   "cell_type": "markdown",
   "id": "885486f2",
   "metadata": {
    "papermill": {
     "duration": 0.007398,
     "end_time": "2023-03-08T15:48:37.376496",
     "exception": false,
     "start_time": "2023-03-08T15:48:37.369098",
     "status": "completed"
    },
    "tags": []
   },
   "source": [
    "The data does not contain any missing values in any of the column."
   ]
  },
  {
   "cell_type": "code",
   "execution_count": 12,
   "id": "595a7b45",
   "metadata": {
    "execution": {
     "iopub.execute_input": "2023-03-08T15:48:37.394251Z",
     "iopub.status.busy": "2023-03-08T15:48:37.393616Z",
     "iopub.status.idle": "2023-03-08T15:48:37.424191Z",
     "shell.execute_reply": "2023-03-08T15:48:37.422720Z"
    },
    "papermill": {
     "duration": 0.042757,
     "end_time": "2023-03-08T15:48:37.426934",
     "exception": false,
     "start_time": "2023-03-08T15:48:37.384177",
     "status": "completed"
    },
    "tags": []
   },
   "outputs": [
    {
     "data": {
      "text/html": [
       "<div>\n",
       "<style scoped>\n",
       "    .dataframe tbody tr th:only-of-type {\n",
       "        vertical-align: middle;\n",
       "    }\n",
       "\n",
       "    .dataframe tbody tr th {\n",
       "        vertical-align: top;\n",
       "    }\n",
       "\n",
       "    .dataframe thead th {\n",
       "        text-align: right;\n",
       "    }\n",
       "</style>\n",
       "<table border=\"1\" class=\"dataframe\">\n",
       "  <thead>\n",
       "    <tr style=\"text-align: right;\">\n",
       "      <th></th>\n",
       "      <th>Customer_care_calls</th>\n",
       "      <th>Customer_rating</th>\n",
       "      <th>Prior_purchases</th>\n",
       "      <th>Discount_offered</th>\n",
       "      <th>Weight_in_gms</th>\n",
       "      <th>Class</th>\n",
       "    </tr>\n",
       "  </thead>\n",
       "  <tbody>\n",
       "    <tr>\n",
       "      <th>count</th>\n",
       "      <td>10997.000000</td>\n",
       "      <td>10997.000000</td>\n",
       "      <td>10997.00000</td>\n",
       "      <td>10997.000000</td>\n",
       "      <td>10997.000000</td>\n",
       "      <td>10997.000000</td>\n",
       "    </tr>\n",
       "    <tr>\n",
       "      <th>mean</th>\n",
       "      <td>4.054560</td>\n",
       "      <td>2.990361</td>\n",
       "      <td>3.56770</td>\n",
       "      <td>13.374375</td>\n",
       "      <td>3633.729199</td>\n",
       "      <td>0.596799</td>\n",
       "    </tr>\n",
       "    <tr>\n",
       "      <th>std</th>\n",
       "      <td>1.141549</td>\n",
       "      <td>1.413666</td>\n",
       "      <td>1.52292</td>\n",
       "      <td>16.206767</td>\n",
       "      <td>1635.386953</td>\n",
       "      <td>0.490563</td>\n",
       "    </tr>\n",
       "    <tr>\n",
       "      <th>min</th>\n",
       "      <td>2.000000</td>\n",
       "      <td>1.000000</td>\n",
       "      <td>2.00000</td>\n",
       "      <td>1.000000</td>\n",
       "      <td>1001.000000</td>\n",
       "      <td>0.000000</td>\n",
       "    </tr>\n",
       "    <tr>\n",
       "      <th>25%</th>\n",
       "      <td>3.000000</td>\n",
       "      <td>2.000000</td>\n",
       "      <td>3.00000</td>\n",
       "      <td>4.000000</td>\n",
       "      <td>1839.000000</td>\n",
       "      <td>0.000000</td>\n",
       "    </tr>\n",
       "    <tr>\n",
       "      <th>50%</th>\n",
       "      <td>4.000000</td>\n",
       "      <td>3.000000</td>\n",
       "      <td>3.00000</td>\n",
       "      <td>7.000000</td>\n",
       "      <td>4149.000000</td>\n",
       "      <td>1.000000</td>\n",
       "    </tr>\n",
       "    <tr>\n",
       "      <th>75%</th>\n",
       "      <td>5.000000</td>\n",
       "      <td>4.000000</td>\n",
       "      <td>4.00000</td>\n",
       "      <td>10.000000</td>\n",
       "      <td>5049.000000</td>\n",
       "      <td>1.000000</td>\n",
       "    </tr>\n",
       "    <tr>\n",
       "      <th>max</th>\n",
       "      <td>7.000000</td>\n",
       "      <td>5.000000</td>\n",
       "      <td>10.00000</td>\n",
       "      <td>65.000000</td>\n",
       "      <td>7846.000000</td>\n",
       "      <td>1.000000</td>\n",
       "    </tr>\n",
       "  </tbody>\n",
       "</table>\n",
       "</div>"
      ],
      "text/plain": [
       "       Customer_care_calls  Customer_rating  Prior_purchases  \\\n",
       "count         10997.000000     10997.000000      10997.00000   \n",
       "mean              4.054560         2.990361          3.56770   \n",
       "std               1.141549         1.413666          1.52292   \n",
       "min               2.000000         1.000000          2.00000   \n",
       "25%               3.000000         2.000000          3.00000   \n",
       "50%               4.000000         3.000000          3.00000   \n",
       "75%               5.000000         4.000000          4.00000   \n",
       "max               7.000000         5.000000         10.00000   \n",
       "\n",
       "       Discount_offered  Weight_in_gms         Class  \n",
       "count      10997.000000   10997.000000  10997.000000  \n",
       "mean          13.374375    3633.729199      0.596799  \n",
       "std           16.206767    1635.386953      0.490563  \n",
       "min            1.000000    1001.000000      0.000000  \n",
       "25%            4.000000    1839.000000      0.000000  \n",
       "50%            7.000000    4149.000000      1.000000  \n",
       "75%           10.000000    5049.000000      1.000000  \n",
       "max           65.000000    7846.000000      1.000000  "
      ]
     },
     "execution_count": 12,
     "metadata": {},
     "output_type": "execute_result"
    }
   ],
   "source": [
    "# description of numerical columns in the data\n",
    "\n",
    "df.describe()"
   ]
  },
  {
   "cell_type": "markdown",
   "id": "3539a83c",
   "metadata": {
    "papermill": {
     "duration": 0.007539,
     "end_time": "2023-03-08T15:48:37.442560",
     "exception": false,
     "start_time": "2023-03-08T15:48:37.435021",
     "status": "completed"
    },
    "tags": []
   },
   "source": [
    "## Conclusions\n",
    "\n",
    "### Customer_care_calls\n",
    "- The average customer care calls is 4.\n",
    "- The customer care calls ranges between 2 and 7 for every customer.\n",
    "- There is no customer in the data who hasn't called the customer care. may indicate that the customers are facing issues regarding their orders.\n",
    "\n",
    "### Customer_rating\n",
    "- The customer rating lies in the range of 1 for minimum to 5 for maximum rating.\n",
    "\n",
    "## Prior_purchases\n",
    "- The prior purchases made by the customers are in the range of 2 for minimum and 10 for maximum.\n",
    "- Around 75% of the customers have made purchases up to 4 purchases in the past.\n",
    "\n",
    "## Discount_offered\n",
    "- The range of this column is very large ranging for value of 1 for the minimum to 65 for the maximum.\n",
    "- 75% of the customers are offered less or equal to 10% of discounts at max.\n",
    "- Some customers are offered very huge discounts.\n",
    "- The column has right skewed data.\n",
    "\n",
    "## Weight_in_gms\n",
    "- The weight of the packages ranges between 1 kg to around 7.8 kg.\n",
    "- Most of the packages weigh around 3.5 kg.\n",
    "- The median value of weights is greater than the mean which indicates the column to be left skewed."
   ]
  },
  {
   "cell_type": "code",
   "execution_count": 13,
   "id": "f071821d",
   "metadata": {
    "execution": {
     "iopub.execute_input": "2023-03-08T15:48:37.460366Z",
     "iopub.status.busy": "2023-03-08T15:48:37.459680Z",
     "iopub.status.idle": "2023-03-08T15:48:37.479740Z",
     "shell.execute_reply": "2023-03-08T15:48:37.478804Z"
    },
    "papermill": {
     "duration": 0.031273,
     "end_time": "2023-03-08T15:48:37.481756",
     "exception": false,
     "start_time": "2023-03-08T15:48:37.450483",
     "status": "completed"
    },
    "tags": []
   },
   "outputs": [
    {
     "data": {
      "text/html": [
       "<div>\n",
       "<style scoped>\n",
       "    .dataframe tbody tr th:only-of-type {\n",
       "        vertical-align: middle;\n",
       "    }\n",
       "\n",
       "    .dataframe tbody tr th {\n",
       "        vertical-align: top;\n",
       "    }\n",
       "\n",
       "    .dataframe thead th {\n",
       "        text-align: right;\n",
       "    }\n",
       "</style>\n",
       "<table border=\"1\" class=\"dataframe\">\n",
       "  <thead>\n",
       "    <tr style=\"text-align: right;\">\n",
       "      <th></th>\n",
       "      <th>Warehouse_block</th>\n",
       "      <th>Mode_of_Shipment</th>\n",
       "      <th>Product_importance</th>\n",
       "      <th>Gender</th>\n",
       "    </tr>\n",
       "  </thead>\n",
       "  <tbody>\n",
       "    <tr>\n",
       "      <th>count</th>\n",
       "      <td>10997</td>\n",
       "      <td>10997</td>\n",
       "      <td>10997</td>\n",
       "      <td>10997</td>\n",
       "    </tr>\n",
       "    <tr>\n",
       "      <th>unique</th>\n",
       "      <td>5</td>\n",
       "      <td>3</td>\n",
       "      <td>3</td>\n",
       "      <td>2</td>\n",
       "    </tr>\n",
       "    <tr>\n",
       "      <th>top</th>\n",
       "      <td>F</td>\n",
       "      <td>Ship</td>\n",
       "      <td>low</td>\n",
       "      <td>F</td>\n",
       "    </tr>\n",
       "    <tr>\n",
       "      <th>freq</th>\n",
       "      <td>3665</td>\n",
       "      <td>7460</td>\n",
       "      <td>5296</td>\n",
       "      <td>5543</td>\n",
       "    </tr>\n",
       "  </tbody>\n",
       "</table>\n",
       "</div>"
      ],
      "text/plain": [
       "       Warehouse_block Mode_of_Shipment Product_importance Gender\n",
       "count            10997            10997              10997  10997\n",
       "unique               5                3                  3      2\n",
       "top                  F             Ship                low      F\n",
       "freq              3665             7460               5296   5543"
      ]
     },
     "execution_count": 13,
     "metadata": {},
     "output_type": "execute_result"
    }
   ],
   "source": [
    "# description of categorical columns\n",
    "\n",
    "df.describe(include='object')"
   ]
  },
  {
   "cell_type": "code",
   "execution_count": 14,
   "id": "0af5272c",
   "metadata": {
    "execution": {
     "iopub.execute_input": "2023-03-08T15:48:37.500200Z",
     "iopub.status.busy": "2023-03-08T15:48:37.499486Z",
     "iopub.status.idle": "2023-03-08T15:48:37.512827Z",
     "shell.execute_reply": "2023-03-08T15:48:37.511321Z"
    },
    "papermill": {
     "duration": 0.02578,
     "end_time": "2023-03-08T15:48:37.515652",
     "exception": false,
     "start_time": "2023-03-08T15:48:37.489872",
     "status": "completed"
    },
    "tags": []
   },
   "outputs": [
    {
     "name": "stdout",
     "output_type": "stream",
     "text": [
      "<class 'pandas.core.frame.DataFrame'>\n",
      "Int64Index: 10997 entries, 0 to 10997\n",
      "Data columns (total 10 columns):\n",
      " #   Column               Non-Null Count  Dtype \n",
      "---  ------               --------------  ----- \n",
      " 0   Customer_care_calls  10997 non-null  int64 \n",
      " 1   Customer_rating      10997 non-null  int64 \n",
      " 2   Prior_purchases      10997 non-null  int64 \n",
      " 3   Discount_offered     10997 non-null  int64 \n",
      " 4   Weight_in_gms        10997 non-null  int64 \n",
      " 5   Warehouse_block      10997 non-null  object\n",
      " 6   Mode_of_Shipment     10997 non-null  object\n",
      " 7   Product_importance   10997 non-null  object\n",
      " 8   Gender               10997 non-null  object\n",
      " 9   Class                10997 non-null  int64 \n",
      "dtypes: int64(6), object(4)\n",
      "memory usage: 945.1+ KB\n"
     ]
    }
   ],
   "source": [
    "df.info()"
   ]
  },
  {
   "cell_type": "code",
   "execution_count": 15,
   "id": "1a9f437f",
   "metadata": {
    "execution": {
     "iopub.execute_input": "2023-03-08T15:48:37.535108Z",
     "iopub.status.busy": "2023-03-08T15:48:37.534687Z",
     "iopub.status.idle": "2023-03-08T15:48:37.539202Z",
     "shell.execute_reply": "2023-03-08T15:48:37.538311Z"
    },
    "papermill": {
     "duration": 0.017057,
     "end_time": "2023-03-08T15:48:37.541874",
     "exception": false,
     "start_time": "2023-03-08T15:48:37.524817",
     "status": "completed"
    },
    "tags": []
   },
   "outputs": [],
   "source": [
    "# make all the column names lowercase\n",
    "\n",
    "df.columns = df.columns.str.lower()"
   ]
  },
  {
   "cell_type": "markdown",
   "id": "21b544b6",
   "metadata": {
    "papermill": {
     "duration": 0.008002,
     "end_time": "2023-03-08T15:48:37.558420",
     "exception": false,
     "start_time": "2023-03-08T15:48:37.550418",
     "status": "completed"
    },
    "tags": []
   },
   "source": [
    "### Customer care calls"
   ]
  },
  {
   "cell_type": "code",
   "execution_count": 16,
   "id": "5c5fbf72",
   "metadata": {
    "execution": {
     "iopub.execute_input": "2023-03-08T15:48:37.576871Z",
     "iopub.status.busy": "2023-03-08T15:48:37.576449Z",
     "iopub.status.idle": "2023-03-08T15:48:37.584936Z",
     "shell.execute_reply": "2023-03-08T15:48:37.583955Z"
    },
    "papermill": {
     "duration": 0.021059,
     "end_time": "2023-03-08T15:48:37.587610",
     "exception": false,
     "start_time": "2023-03-08T15:48:37.566551",
     "status": "completed"
    },
    "tags": []
   },
   "outputs": [
    {
     "data": {
      "text/plain": [
       "4    32.336092\n",
       "3    29.244339\n",
       "5    21.169410\n",
       "6     9.211603\n",
       "2     5.801582\n",
       "7     2.236974\n",
       "Name: customer_care_calls, dtype: float64"
      ]
     },
     "execution_count": 16,
     "metadata": {},
     "output_type": "execute_result"
    }
   ],
   "source": [
    "# ratio of customer care calls \n",
    "\n",
    "df['customer_care_calls'].value_counts(normalize=True) * 100"
   ]
  },
  {
   "cell_type": "code",
   "execution_count": 17,
   "id": "a076832c",
   "metadata": {
    "execution": {
     "iopub.execute_input": "2023-03-08T15:48:37.606472Z",
     "iopub.status.busy": "2023-03-08T15:48:37.606051Z",
     "iopub.status.idle": "2023-03-08T15:48:37.829285Z",
     "shell.execute_reply": "2023-03-08T15:48:37.828421Z"
    },
    "papermill": {
     "duration": 0.234999,
     "end_time": "2023-03-08T15:48:37.831125",
     "exception": false,
     "start_time": "2023-03-08T15:48:37.596126",
     "status": "completed"
    },
    "tags": []
   },
   "outputs": [
    {
     "data": {
      "image/png": "[encoded data removed]",
      "text/plain": [
       "<Figure size 640x480 with 1 Axes>"
      ]
     },
     "metadata": {},
     "output_type": "display_data"
    }
   ],
   "source": [
    "# count the products shipped wrt customer care calls made\n",
    "\n",
    "sns.countplot(x='customer_care_calls',data=df,hue='class')\n",
    "plt.show()"
   ]
  },
  {
   "cell_type": "markdown",
   "id": "ebe27f00",
   "metadata": {
    "papermill": {
     "duration": 0.00778,
     "end_time": "2023-03-08T15:48:37.847592",
     "exception": false,
     "start_time": "2023-03-08T15:48:37.839812",
     "status": "completed"
    },
    "tags": []
   },
   "source": [
    "- It seems like number of customer care calls does not depend if the package was shipped or not.\n",
    "- In every case it is observed that the customer care calls are more in frequency when the package is on time and less in frequency when not on time.\n",
    "- This customer care call can also be for the tracking purposes."
   ]
  },
  {
   "cell_type": "code",
   "execution_count": 18,
   "id": "fcea6b88",
   "metadata": {
    "execution": {
     "iopub.execute_input": "2023-03-08T15:48:37.866772Z",
     "iopub.status.busy": "2023-03-08T15:48:37.865669Z",
     "iopub.status.idle": "2023-03-08T15:48:38.612085Z",
     "shell.execute_reply": "2023-03-08T15:48:38.610898Z"
    },
    "papermill": {
     "duration": 0.75828,
     "end_time": "2023-03-08T15:48:38.614148",
     "exception": false,
     "start_time": "2023-03-08T15:48:37.855868",
     "status": "completed"
    },
    "tags": []
   },
   "outputs": [
    {
     "data": {
      "image/png": "[encoded data removed]",
      "text/plain": [
       "<Figure size 1000x1500 with 5 Axes>"
      ]
     },
     "metadata": {},
     "output_type": "display_data"
    }
   ],
   "source": [
    "# customer care calls depending on customer rating\n",
    "\n",
    "sns.catplot(x='customer_care_calls',data=df,col='customer_rating',col_wrap=2,kind='count')\n",
    "plt.show()"
   ]
  },
  {
   "cell_type": "markdown",
   "id": "b925a253",
   "metadata": {
    "papermill": {
     "duration": 0.00846,
     "end_time": "2023-03-08T15:48:38.631632",
     "exception": false,
     "start_time": "2023-03-08T15:48:38.623172",
     "status": "completed"
    },
    "tags": []
   },
   "source": [
    "- Customer rating seems to have no impact on the customer care calls."
   ]
  },
  {
   "cell_type": "code",
   "execution_count": 19,
   "id": "5efd398c",
   "metadata": {
    "execution": {
     "iopub.execute_input": "2023-03-08T15:48:38.651511Z",
     "iopub.status.busy": "2023-03-08T15:48:38.650915Z",
     "iopub.status.idle": "2023-03-08T15:48:38.673825Z",
     "shell.execute_reply": "2023-03-08T15:48:38.671052Z"
    },
    "papermill": {
     "duration": 0.036198,
     "end_time": "2023-03-08T15:48:38.676689",
     "exception": false,
     "start_time": "2023-03-08T15:48:38.640491",
     "status": "completed"
    },
    "tags": []
   },
   "outputs": [
    {
     "name": "stdout",
     "output_type": "stream",
     "text": [
      "The two features are unrelated to each other\n",
      "The p value is  0.35952312798167263\n"
     ]
    }
   ],
   "source": [
    "# chi2 test on customer_care_calls and customer_rating\n",
    "\n",
    "from scipy.stats import chi2_contingency\n",
    "\n",
    "contingency = pd.crosstab(index=df['customer_care_calls'],columns=df['customer_rating'])\n",
    "\n",
    "stats,p_val,dof,expect = chi2_contingency(contingency)\n",
    "\n",
    "ci = 0.05\n",
    "\n",
    "if p_val > ci:\n",
    "    print('The two features are unrelated to each other')\n",
    "else:\n",
    "    print('The two features are related to each other')\n",
    "\n",
    "\n",
    "print('The p value is ',p_val)"
   ]
  },
  {
   "cell_type": "code",
   "execution_count": 20,
   "id": "2908781a",
   "metadata": {
    "execution": {
     "iopub.execute_input": "2023-03-08T15:48:38.697413Z",
     "iopub.status.busy": "2023-03-08T15:48:38.697018Z",
     "iopub.status.idle": "2023-03-08T15:48:39.150321Z",
     "shell.execute_reply": "2023-03-08T15:48:39.148969Z"
    },
    "papermill": {
     "duration": 0.466206,
     "end_time": "2023-03-08T15:48:39.152434",
     "exception": false,
     "start_time": "2023-03-08T15:48:38.686228",
     "status": "completed"
    },
    "tags": []
   },
   "outputs": [
    {
     "data": {
      "image/png": "[encoded data removed]",
      "text/plain": [
       "<Figure size 1500x500 with 3 Axes>"
      ]
     },
     "metadata": {},
     "output_type": "display_data"
    }
   ],
   "source": [
    "# mode of shipment in relation to customer care calls.\n",
    "\n",
    "sns.catplot(x='customer_care_calls',data=df,col='mode_of_shipment',col_wrap=3,kind='count')\n",
    "plt.show()"
   ]
  },
  {
   "cell_type": "code",
   "execution_count": 21,
   "id": "cb538862",
   "metadata": {
    "execution": {
     "iopub.execute_input": "2023-03-08T15:48:39.174172Z",
     "iopub.status.busy": "2023-03-08T15:48:39.173783Z",
     "iopub.status.idle": "2023-03-08T15:48:39.193003Z",
     "shell.execute_reply": "2023-03-08T15:48:39.191644Z"
    },
    "papermill": {
     "duration": 0.033274,
     "end_time": "2023-03-08T15:48:39.195135",
     "exception": false,
     "start_time": "2023-03-08T15:48:39.161861",
     "status": "completed"
    },
    "tags": []
   },
   "outputs": [
    {
     "name": "stdout",
     "output_type": "stream",
     "text": [
      "The two features are unrelated to each other\n",
      "The p value is  0.1222588359940189\n"
     ]
    }
   ],
   "source": [
    "# chi2 test on customer_care_calls and mode_of_shipment\n",
    "\n",
    "from scipy.stats import chi2_contingency\n",
    "\n",
    "contingency = pd.crosstab(index=df['customer_care_calls'],columns=df['mode_of_shipment'])\n",
    "\n",
    "stats,p_val,dof,expect = chi2_contingency(contingency)\n",
    "\n",
    "ci = 0.05\n",
    "\n",
    "if p_val > ci:\n",
    "    print('The two features are unrelated to each other')\n",
    "else:\n",
    "    print('The two features are related to each other')\n",
    "\n",
    "\n",
    "print('The p value is ',p_val)"
   ]
  },
  {
   "cell_type": "code",
   "execution_count": 22,
   "id": "17486709",
   "metadata": {
    "execution": {
     "iopub.execute_input": "2023-03-08T15:48:39.216538Z",
     "iopub.status.busy": "2023-03-08T15:48:39.215940Z",
     "iopub.status.idle": "2023-03-08T15:48:39.614869Z",
     "shell.execute_reply": "2023-03-08T15:48:39.614053Z"
    },
    "papermill": {
     "duration": 0.411976,
     "end_time": "2023-03-08T15:48:39.616920",
     "exception": false,
     "start_time": "2023-03-08T15:48:39.204944",
     "status": "completed"
    },
    "tags": []
   },
   "outputs": [
    {
     "data": {
      "application/vnd.jupyter.widget-view+json": {
       "model_id": "4dc7d195d3af490985020753b4554bb6",
       "version_major": 2,
       "version_minor": 0
      },
      "text/plain": [
       "interactive(children=(RadioButtons(description='Choose the estimator', options=('mean', 'median'), value='mean…"
      ]
     },
     "metadata": {},
     "output_type": "display_data"
    }
   ],
   "source": [
    "# customer care calls and discount offered\n",
    "\n",
    "est_radio = widgets.RadioButtons(options=['mean','median'],index=0,description='Choose the estimator')\n",
    "hue_checkbox = widgets.Checkbox(description='Show based on class')\n",
    "\n",
    "def discount_calls(est,show_class=False):\n",
    "    if show_class == False:\n",
    "        sns.barplot(x='customer_care_calls',y='discount_offered',data=df,estimator=est)\n",
    "        plt.show()\n",
    "    else:\n",
    "        sns.catplot(x='customer_care_calls',y='discount_offered',data=df,kind='bar',estimator=est,col='class')\n",
    "        plt.show()\n",
    "\n",
    "display(widgets.interactive(discount_calls,est=est_radio,show_class=hue_checkbox))"
   ]
  },
  {
   "cell_type": "markdown",
   "id": "3a434dd0",
   "metadata": {
    "papermill": {
     "duration": 0.009548,
     "end_time": "2023-03-08T15:48:39.637308",
     "exception": false,
     "start_time": "2023-03-08T15:48:39.627760",
     "status": "completed"
    },
    "tags": []
   },
   "source": [
    "- The customers given larger avg discounts are less likely to call the customer care then those who are given lesser avg discounts."
   ]
  },
  {
   "cell_type": "code",
   "execution_count": 23,
   "id": "84fdff79",
   "metadata": {
    "execution": {
     "iopub.execute_input": "2023-03-08T15:48:39.658818Z",
     "iopub.status.busy": "2023-03-08T15:48:39.658435Z",
     "iopub.status.idle": "2023-03-08T15:48:40.311161Z",
     "shell.execute_reply": "2023-03-08T15:48:40.309822Z"
    },
    "papermill": {
     "duration": 0.666517,
     "end_time": "2023-03-08T15:48:40.313682",
     "exception": false,
     "start_time": "2023-03-08T15:48:39.647165",
     "status": "completed"
    },
    "tags": []
   },
   "outputs": [
    {
     "data": {
      "image/png": "[encoded data removed]",
      "text/plain": [
       "<Figure size 1000x500 with 2 Axes>"
      ]
     },
     "metadata": {},
     "output_type": "display_data"
    }
   ],
   "source": [
    "sns.catplot(x='customer_care_calls',y='discount_offered',data=df,kind='bar',col='class')\n",
    "plt.show()\n"
   ]
  },
  {
   "cell_type": "markdown",
   "id": "3f606cbf",
   "metadata": {
    "papermill": {
     "duration": 0.00951,
     "end_time": "2023-03-08T15:48:40.333409",
     "exception": false,
     "start_time": "2023-03-08T15:48:40.323899",
     "status": "completed"
    },
    "tags": []
   },
   "source": [
    "- Discount offered to the customers has no effect on the customer care calls when the package is not delivered on time.\n",
    "- The discounts offered only shows some significance when the package gets delivered on time."
   ]
  },
  {
   "cell_type": "code",
   "execution_count": null,
   "id": "33c7d9ab",
   "metadata": {
    "papermill": {
     "duration": 0.009817,
     "end_time": "2023-03-08T15:48:40.353065",
     "exception": false,
     "start_time": "2023-03-08T15:48:40.343248",
     "status": "completed"
    },
    "tags": []
   },
   "outputs": [],
   "source": []
  }
 ],
 "metadata": {
  "kernelspec": {
   "display_name": "Python 3",
   "language": "python",
   "name": "python3"
  },
  "language_info": {
   "codemirror_mode": {
    "name": "ipython",
    "version": 3
   },
   "file_extension": ".py",
   "mimetype": "text/x-python",
   "name": "python",
   "nbconvert_exporter": "python",
   "pygments_lexer": "ipython3",
   "version": "3.7.12"
  },
  "papermill": {
   "default_parameters": {},
   "duration": 14.237201,
   "end_time": "2023-03-08T15:48:41.084295",
   "environment_variables": {},
   "exception": null,
   "input_path": "__notebook__.ipynb",
   "output_path": "__notebook__.ipynb",
   "parameters": {},
   "start_time": "2023-03-08T15:48:26.847094",
   "version": "2.4.0"
  },
  "widgets": {
   "application/vnd.jupyter.widget-state+json": {
    "state": {
     "0384e41404784ea5b83b445785930008": {
      "model_module": "@jupyter-widgets/output",
      "model_module_version": "1.0.0",
      "model_name": "OutputModel",
      "state": {
       "_dom_classes": [],
       "_model_module": "@jupyter-widgets/output",
       "_model_module_version": "1.0.0",
       "_model_name": "OutputModel",
       "_view_count": null,
       "_view_module": "@jupyter-widgets/output",
       "_view_module_version": "1.0.0",
       "_view_name": "OutputView",
       "layout": "IPY_MODEL_f711b31107234ce6b1752738600cddce",
       "msg_id": "",
       "outputs": [
        {
         "data": {
          "image/png": "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\n",
          "text/plain": "<Figure size 640x480 with 1 Axes>"
         },
         "metadata": {},
         "output_type": "display_data"
        }
       ]
      }
     },
     "06040440f1bd46c4983a3f76453cd862": {
      "model_module": "@jupyter-widgets/controls",
      "model_module_version": "1.5.0",
      "model_name": "DescriptionStyleModel",
      "state": {
       "_model_module": "@jupyter-widgets/controls",
       "_model_module_version": "1.5.0",
       "_model_name": "DescriptionStyleModel",
       "_view_count": null,
       "_view_module": "@jupyter-widgets/base",
       "_view_module_version": "1.2.0",
       "_view_name": "StyleView",
       "description_width": ""
      }
     },
     "07a58cd1ff2c45fd894e21ac1d5a2e07": {
      "model_module": "@jupyter-widgets/controls",
      "model_module_version": "1.5.0",
      "model_name": "CheckboxModel",
      "state": {
       "_dom_classes": [],
       "_model_module": "@jupyter-widgets/controls",
       "_model_module_version": "1.5.0",
       "_model_name": "CheckboxModel",
       "_view_count": null,
       "_view_module": "@jupyter-widgets/controls",
       "_view_module_version": "1.5.0",
       "_view_name": "CheckboxView",
       "description": "Show based on class",
       "description_tooltip": null,
       "disabled": false,
       "indent": true,
       "layout": "IPY_MODEL_9f3dade0654745eabd53c721b71fb11c",
       "style": "IPY_MODEL_0d53054f759543e094736f5df2a23908",
       "value": false
      }
     },
     "0d53054f759543e094736f5df2a23908": {
      "model_module": "@jupyter-widgets/controls",
      "model_module_version": "1.5.0",
      "model_name": "DescriptionStyleModel",
      "state": {
       "_model_module": "@jupyter-widgets/controls",
       "_model_module_version": "1.5.0",
       "_model_name": "DescriptionStyleModel",
       "_view_count": null,
       "_view_module": "@jupyter-widgets/base",
       "_view_module_version": "1.2.0",
       "_view_name": "StyleView",
       "description_width": ""
      }
     },
     "4dc7d195d3af490985020753b4554bb6": {
      "model_module": "@jupyter-widgets/controls",
      "model_module_version": "1.5.0",
      "model_name": "VBoxModel",
      "state": {
       "_dom_classes": [
        "widget-interact"
       ],
       "_model_module": "@jupyter-widgets/controls",
       "_model_module_version": "1.5.0",
       "_model_name": "VBoxModel",
       "_view_count": null,
       "_view_module": "@jupyter-widgets/controls",
       "_view_module_version": "1.5.0",
       "_view_name": "VBoxView",
       "box_style": "",
       "children": [
        "IPY_MODEL_68db95b3c9114f47b7f503157c32a8b3",
        "IPY_MODEL_07a58cd1ff2c45fd894e21ac1d5a2e07",
        "IPY_MODEL_0384e41404784ea5b83b445785930008"
       ],
       "layout": "IPY_MODEL_500406033cee4148bf5fe65c6962773c"
      }
     },
     "500406033cee4148bf5fe65c6962773c": {
      "model_module": "@jupyter-widgets/base",
      "model_module_version": "1.2.0",
      "model_name": "LayoutModel",
      "state": {
       "_model_module": "@jupyter-widgets/base",
       "_model_module_version": "1.2.0",
       "_model_name": "LayoutModel",
       "_view_count": null,
       "_view_module": "@jupyter-widgets/base",
       "_view_module_version": "1.2.0",
       "_view_name": "LayoutView",
       "align_content": null,
       "align_items": null,
       "align_self": null,
       "border": null,
       "bottom": null,
       "display": null,
       "flex": null,
       "flex_flow": null,
       "grid_area": null,
       "grid_auto_columns": null,
       "grid_auto_flow": null,
       "grid_auto_rows": null,
       "grid_column": null,
       "grid_gap": null,
       "grid_row": null,
       "grid_template_areas": null,
       "grid_template_columns": null,
       "grid_template_rows": null,
       "height": null,
       "justify_content": null,
       "justify_items": null,
       "left": null,
       "margin": null,
       "max_height": null,
       "max_width": null,
       "min_height": null,
       "min_width": null,
       "object_fit": null,
       "object_position": null,
       "order": null,
       "overflow": null,
       "overflow_x": null,
       "overflow_y": null,
       "padding": null,
       "right": null,
       "top": null,
       "visibility": null,
       "width": null
      }
     },
     "68db95b3c9114f47b7f503157c32a8b3": {
      "model_module": "@jupyter-widgets/controls",
      "model_module_version": "1.5.0",
      "model_name": "RadioButtonsModel",
      "state": {
       "_dom_classes": [],
       "_model_module": "@jupyter-widgets/controls",
       "_model_module_version": "1.5.0",
       "_model_name": "RadioButtonsModel",
       "_options_labels": [
        "mean",
        "median"
       ],
       "_view_count": null,
       "_view_module": "@jupyter-widgets/controls",
       "_view_module_version": "1.5.0",
       "_view_name": "RadioButtonsView",
       "description": "Choose the estimator",
       "description_tooltip": null,
       "disabled": false,
       "index": 0,
       "layout": "IPY_MODEL_bee92a1a24a043ffb8b863f9c6a6a587",
       "style": "IPY_MODEL_06040440f1bd46c4983a3f76453cd862"
      }
     },
     "9f3dade0654745eabd53c721b71fb11c": {
      "model_module": "@jupyter-widgets/base",
      "model_module_version": "1.2.0",
      "model_name": "LayoutModel",
      "state": {
       "_model_module": "@jupyter-widgets/base",
       "_model_module_version": "1.2.0",
       "_model_name": "LayoutModel",
       "_view_count": null,
       "_view_module": "@jupyter-widgets/base",
       "_view_module_version": "1.2.0",
       "_view_name": "LayoutView",
       "align_content": null,
       "align_items": null,
       "align_self": null,
       "border": null,
       "bottom": null,
       "display": null,
       "flex": null,
       "flex_flow": null,
       "grid_area": null,
       "grid_auto_columns": null,
       "grid_auto_flow": null,
       "grid_auto_rows": null,
       "grid_column": null,
       "grid_gap": null,
       "grid_row": null,
       "grid_template_areas": null,
       "grid_template_columns": null,
       "grid_template_rows": null,
       "height": null,
       "justify_content": null,
       "justify_items": null,
       "left": null,
       "margin": null,
       "max_height": null,
       "max_width": null,
       "min_height": null,
       "min_width": null,
       "object_fit": null,
       "object_position": null,
       "order": null,
       "overflow": null,
       "overflow_x": null,
       "overflow_y": null,
       "padding": null,
       "right": null,
       "top": null,
       "visibility": null,
       "width": null
      }
     },
     "bee92a1a24a043ffb8b863f9c6a6a587": {
      "model_module": "@jupyter-widgets/base",
      "model_module_version": "1.2.0",
      "model_name": "LayoutModel",
      "state": {
       "_model_module": "@jupyter-widgets/base",
       "_model_module_version": "1.2.0",
       "_model_name": "LayoutModel",
       "_view_count": null,
       "_view_module": "@jupyter-widgets/base",
       "_view_module_version": "1.2.0",
       "_view_name": "LayoutView",
       "align_content": null,
       "align_items": null,
       "align_self": null,
       "border": null,
       "bottom": null,
       "display": null,
       "flex": null,
       "flex_flow": null,
       "grid_area": null,
       "grid_auto_columns": null,
       "grid_auto_flow": null,
       "grid_auto_rows": null,
       "grid_column": null,
       "grid_gap": null,
       "grid_row": null,
       "grid_template_areas": null,
       "grid_template_columns": null,
       "grid_template_rows": null,
       "height": null,
       "justify_content": null,
       "justify_items": null,
       "left": null,
       "margin": null,
       "max_height": null,
       "max_width": null,
       "min_height": null,
       "min_width": null,
       "object_fit": null,
       "object_position": null,
       "order": null,
       "overflow": null,
       "overflow_x": null,
       "overflow_y": null,
       "padding": null,
       "right": null,
       "top": null,
       "visibility": null,
       "width": null
      }
     },
     "f711b31107234ce6b1752738600cddce": {
      "model_module": "@jupyter-widgets/base",
      "model_module_version": "1.2.0",
      "model_name": "LayoutModel",
      "state": {
       "_model_module": "@jupyter-widgets/base",
       "_model_module_version": "1.2.0",
       "_model_name": "LayoutModel",
       "_view_count": null,
       "_view_module": "@jupyter-widgets/base",
       "_view_module_version": "1.2.0",
       "_view_name": "LayoutView",
       "align_content": null,
       "align_items": null,
       "align_self": null,
       "border": null,
       "bottom": null,
       "display": null,
       "flex": null,
       "flex_flow": null,
       "grid_area": null,
       "grid_auto_columns": null,
       "grid_auto_flow": null,
       "grid_auto_rows": null,
       "grid_column": null,
       "grid_gap": null,
       "grid_row": null,
       "grid_template_areas": null,
       "grid_template_columns": null,
       "grid_template_rows": null,
       "height": null,
       "justify_content": null,
       "justify_items": null,
       "left": null,
       "margin": null,
       "max_height": null,
       "max_width": null,
       "min_height": null,
       "min_width": null,
       "object_fit": null,
       "object_position": null,
       "order": null,
       "overflow": null,
       "overflow_x": null,
       "overflow_y": null,
       "padding": null,
       "right": null,
       "top": null,
       "visibility": null,
       "width": null
      }
     }
    },
    "version_major": 2,
    "version_minor": 0
   }
  }
 },
 "nbformat": 4,
 "nbformat_minor": 5
}
