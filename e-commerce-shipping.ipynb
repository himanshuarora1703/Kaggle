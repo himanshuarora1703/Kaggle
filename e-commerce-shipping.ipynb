{
 "cells": [
  {
   "cell_type": "code",
   "execution_count": 1,
   "id": "98d6de82",
   "metadata": {
    "_cell_guid": "b1076dfc-b9ad-4769-8c92-a6c4dae69d19",
    "_uuid": "8f2839f25d086af736a60e9eeb907d3b93b6e0e5",
    "execution": {
     "iopub.execute_input": "2023-03-12T14:57:25.490700Z",
     "iopub.status.busy": "2023-03-12T14:57:25.489989Z",
     "iopub.status.idle": "2023-03-12T14:57:25.515678Z",
     "shell.execute_reply": "2023-03-12T14:57:25.514215Z"
    },
    "papermill": {
     "duration": 0.043461,
     "end_time": "2023-03-12T14:57:25.518918",
     "exception": false,
     "start_time": "2023-03-12T14:57:25.475457",
     "status": "completed"
    },
    "tags": []
   },
   "outputs": [
    {
     "name": "stdout",
     "output_type": "stream",
     "text": [
      "/kaggle/input/shipping-ecommerce/shipping_ecommerce.csv\n"
     ]
    }
   ],
   "source": [
    "# This Python 3 environment comes with many helpful analytics libraries installed\n",
    "# It is defined by the kaggle/python Docker image: https://github.com/kaggle/docker-python\n",
    "# For example, here's several helpful packages to load\n",
    "\n",
    "import numpy as np # linear algebra\n",
    "import pandas as pd # data processing, CSV file I/O (e.g. pd.read_csv)\n",
    "\n",
    "# Input data files are available in the read-only \"../input/\" directory\n",
    "# For example, running this (by clicking run or pressing Shift+Enter) will list all files under the input directory\n",
    "\n",
    "\n",
    "import os\n",
    "for dirname, _, filenames in os.walk('/kaggle/input'):\n",
    "    for filename in filenames:\n",
    "        print(os.path.join(dirname, filename))\n",
    "\n",
    "# You can write up to 20GB to the current directory (/kaggle/working/) that gets preserved as output when you create a version using \"Save & Run All\" \n",
    "# You can also write temporary files to /kaggle/temp/, but they won't be saved outside of the current session"
   ]
  },
  {
   "cell_type": "code",
   "execution_count": 2,
   "id": "492e9660",
   "metadata": {
    "execution": {
     "iopub.execute_input": "2023-03-12T14:57:25.543097Z",
     "iopub.status.busy": "2023-03-12T14:57:25.542154Z",
     "iopub.status.idle": "2023-03-12T14:57:26.980051Z",
     "shell.execute_reply": "2023-03-12T14:57:26.978850Z"
    },
    "papermill": {
     "duration": 1.453543,
     "end_time": "2023-03-12T14:57:26.983445",
     "exception": false,
     "start_time": "2023-03-12T14:57:25.529902",
     "status": "completed"
    },
    "tags": []
   },
   "outputs": [],
   "source": [
    "import matplotlib.pyplot as plt\n",
    "import seaborn as sns"
   ]
  },
  {
   "cell_type": "code",
   "execution_count": 3,
   "id": "2e909929",
   "metadata": {
    "execution": {
     "iopub.execute_input": "2023-03-12T14:57:27.007386Z",
     "iopub.status.busy": "2023-03-12T14:57:27.006750Z",
     "iopub.status.idle": "2023-03-12T14:57:27.013881Z",
     "shell.execute_reply": "2023-03-12T14:57:27.012388Z"
    },
    "papermill": {
     "duration": 0.02313,
     "end_time": "2023-03-12T14:57:27.017209",
     "exception": false,
     "start_time": "2023-03-12T14:57:26.994079",
     "status": "completed"
    },
    "tags": []
   },
   "outputs": [],
   "source": [
    "import ipywidgets as widgets"
   ]
  },
  {
   "cell_type": "code",
   "execution_count": 4,
   "id": "932de614",
   "metadata": {
    "execution": {
     "iopub.execute_input": "2023-03-12T14:57:27.043661Z",
     "iopub.status.busy": "2023-03-12T14:57:27.042271Z",
     "iopub.status.idle": "2023-03-12T14:57:27.119037Z",
     "shell.execute_reply": "2023-03-12T14:57:27.117551Z"
    },
    "papermill": {
     "duration": 0.094939,
     "end_time": "2023-03-12T14:57:27.122929",
     "exception": false,
     "start_time": "2023-03-12T14:57:27.027990",
     "status": "completed"
    },
    "tags": []
   },
   "outputs": [
    {
     "data": {
      "text/html": [
       "<div>\n",
       "<style scoped>\n",
       "    .dataframe tbody tr th:only-of-type {\n",
       "        vertical-align: middle;\n",
       "    }\n",
       "\n",
       "    .dataframe tbody tr th {\n",
       "        vertical-align: top;\n",
       "    }\n",
       "\n",
       "    .dataframe thead th {\n",
       "        text-align: right;\n",
       "    }\n",
       "</style>\n",
       "<table border=\"1\" class=\"dataframe\">\n",
       "  <thead>\n",
       "    <tr style=\"text-align: right;\">\n",
       "      <th></th>\n",
       "      <th>Customer_care_calls</th>\n",
       "      <th>Customer_rating</th>\n",
       "      <th>Prior_purchases</th>\n",
       "      <th>Discount_offered</th>\n",
       "      <th>Weight_in_gms</th>\n",
       "      <th>Warehouse_block</th>\n",
       "      <th>Mode_of_Shipment</th>\n",
       "      <th>Product_importance</th>\n",
       "      <th>Gender</th>\n",
       "      <th>Class</th>\n",
       "    </tr>\n",
       "  </thead>\n",
       "  <tbody>\n",
       "    <tr>\n",
       "      <th>0</th>\n",
       "      <td>5</td>\n",
       "      <td>4</td>\n",
       "      <td>2</td>\n",
       "      <td>10</td>\n",
       "      <td>5395</td>\n",
       "      <td>A</td>\n",
       "      <td>Ship</td>\n",
       "      <td>medium</td>\n",
       "      <td>M</td>\n",
       "      <td>1</td>\n",
       "    </tr>\n",
       "    <tr>\n",
       "      <th>1</th>\n",
       "      <td>4</td>\n",
       "      <td>3</td>\n",
       "      <td>2</td>\n",
       "      <td>6</td>\n",
       "      <td>5867</td>\n",
       "      <td>F</td>\n",
       "      <td>Ship</td>\n",
       "      <td>medium</td>\n",
       "      <td>F</td>\n",
       "      <td>0</td>\n",
       "    </tr>\n",
       "    <tr>\n",
       "      <th>2</th>\n",
       "      <td>3</td>\n",
       "      <td>4</td>\n",
       "      <td>2</td>\n",
       "      <td>2</td>\n",
       "      <td>5957</td>\n",
       "      <td>D</td>\n",
       "      <td>Ship</td>\n",
       "      <td>medium</td>\n",
       "      <td>M</td>\n",
       "      <td>0</td>\n",
       "    </tr>\n",
       "    <tr>\n",
       "      <th>3</th>\n",
       "      <td>3</td>\n",
       "      <td>1</td>\n",
       "      <td>2</td>\n",
       "      <td>27</td>\n",
       "      <td>2551</td>\n",
       "      <td>D</td>\n",
       "      <td>Ship</td>\n",
       "      <td>medium</td>\n",
       "      <td>M</td>\n",
       "      <td>1</td>\n",
       "    </tr>\n",
       "    <tr>\n",
       "      <th>4</th>\n",
       "      <td>7</td>\n",
       "      <td>5</td>\n",
       "      <td>4</td>\n",
       "      <td>9</td>\n",
       "      <td>1329</td>\n",
       "      <td>B</td>\n",
       "      <td>Ship</td>\n",
       "      <td>medium</td>\n",
       "      <td>M</td>\n",
       "      <td>1</td>\n",
       "    </tr>\n",
       "  </tbody>\n",
       "</table>\n",
       "</div>"
      ],
      "text/plain": [
       "   Customer_care_calls  Customer_rating  Prior_purchases  Discount_offered  \\\n",
       "0                    5                4                2                10   \n",
       "1                    4                3                2                 6   \n",
       "2                    3                4                2                 2   \n",
       "3                    3                1                2                27   \n",
       "4                    7                5                4                 9   \n",
       "\n",
       "   Weight_in_gms Warehouse_block Mode_of_Shipment Product_importance Gender  \\\n",
       "0           5395               A             Ship             medium      M   \n",
       "1           5867               F             Ship             medium      F   \n",
       "2           5957               D             Ship             medium      M   \n",
       "3           2551               D             Ship             medium      M   \n",
       "4           1329               B             Ship             medium      M   \n",
       "\n",
       "   Class  \n",
       "0      1  \n",
       "1      0  \n",
       "2      0  \n",
       "3      1  \n",
       "4      1  "
      ]
     },
     "execution_count": 4,
     "metadata": {},
     "output_type": "execute_result"
    }
   ],
   "source": [
    "# load the dataset\n",
    "\n",
    "df = pd.read_csv('/kaggle/input/shipping-ecommerce/shipping_ecommerce.csv')\n",
    "\n",
    "df.head()"
   ]
  },
  {
   "cell_type": "code",
   "execution_count": 5,
   "id": "595cfeaa",
   "metadata": {
    "execution": {
     "iopub.execute_input": "2023-03-12T14:57:27.148073Z",
     "iopub.status.busy": "2023-03-12T14:57:27.147117Z",
     "iopub.status.idle": "2023-03-12T14:57:27.181511Z",
     "shell.execute_reply": "2023-03-12T14:57:27.179360Z"
    },
    "papermill": {
     "duration": 0.050634,
     "end_time": "2023-03-12T14:57:27.184676",
     "exception": false,
     "start_time": "2023-03-12T14:57:27.134042",
     "status": "completed"
    },
    "tags": []
   },
   "outputs": [
    {
     "name": "stdout",
     "output_type": "stream",
     "text": [
      "<class 'pandas.core.frame.DataFrame'>\n",
      "RangeIndex: 10998 entries, 0 to 10997\n",
      "Data columns (total 10 columns):\n",
      " #   Column               Non-Null Count  Dtype \n",
      "---  ------               --------------  ----- \n",
      " 0   Customer_care_calls  10998 non-null  int64 \n",
      " 1   Customer_rating      10998 non-null  int64 \n",
      " 2   Prior_purchases      10998 non-null  int64 \n",
      " 3   Discount_offered     10998 non-null  int64 \n",
      " 4   Weight_in_gms        10998 non-null  int64 \n",
      " 5   Warehouse_block      10998 non-null  object\n",
      " 6   Mode_of_Shipment     10998 non-null  object\n",
      " 7   Product_importance   10998 non-null  object\n",
      " 8   Gender               10998 non-null  object\n",
      " 9   Class                10998 non-null  int64 \n",
      "dtypes: int64(6), object(4)\n",
      "memory usage: 859.3+ KB\n"
     ]
    }
   ],
   "source": [
    "# check the dtypes and missing values\n",
    "\n",
    "df.info()"
   ]
  },
  {
   "cell_type": "code",
   "execution_count": 6,
   "id": "03c92dae",
   "metadata": {
    "execution": {
     "iopub.execute_input": "2023-03-12T14:57:27.210793Z",
     "iopub.status.busy": "2023-03-12T14:57:27.209372Z",
     "iopub.status.idle": "2023-03-12T14:57:27.227730Z",
     "shell.execute_reply": "2023-03-12T14:57:27.226038Z"
    },
    "papermill": {
     "duration": 0.035265,
     "end_time": "2023-03-12T14:57:27.230859",
     "exception": false,
     "start_time": "2023-03-12T14:57:27.195594",
     "status": "completed"
    },
    "tags": []
   },
   "outputs": [
    {
     "data": {
      "text/plain": [
       "1"
      ]
     },
     "execution_count": 6,
     "metadata": {},
     "output_type": "execute_result"
    }
   ],
   "source": [
    "# check for duplicate values\n",
    "\n",
    "df.duplicated(subset=df.columns[0:9]).sum()"
   ]
  },
  {
   "cell_type": "markdown",
   "id": "48210aa9",
   "metadata": {
    "papermill": {
     "duration": 0.010445,
     "end_time": "2023-03-12T14:57:27.252255",
     "exception": false,
     "start_time": "2023-03-12T14:57:27.241810",
     "status": "completed"
    },
    "tags": []
   },
   "source": [
    "There is one entry in the data that is duplicated"
   ]
  },
  {
   "cell_type": "code",
   "execution_count": 7,
   "id": "957c334a",
   "metadata": {
    "execution": {
     "iopub.execute_input": "2023-03-12T14:57:27.276259Z",
     "iopub.status.busy": "2023-03-12T14:57:27.275768Z",
     "iopub.status.idle": "2023-03-12T14:57:27.300358Z",
     "shell.execute_reply": "2023-03-12T14:57:27.299012Z"
    },
    "papermill": {
     "duration": 0.040492,
     "end_time": "2023-03-12T14:57:27.303494",
     "exception": false,
     "start_time": "2023-03-12T14:57:27.263002",
     "status": "completed"
    },
    "tags": []
   },
   "outputs": [
    {
     "data": {
      "text/html": [
       "<div>\n",
       "<style scoped>\n",
       "    .dataframe tbody tr th:only-of-type {\n",
       "        vertical-align: middle;\n",
       "    }\n",
       "\n",
       "    .dataframe tbody tr th {\n",
       "        vertical-align: top;\n",
       "    }\n",
       "\n",
       "    .dataframe thead th {\n",
       "        text-align: right;\n",
       "    }\n",
       "</style>\n",
       "<table border=\"1\" class=\"dataframe\">\n",
       "  <thead>\n",
       "    <tr style=\"text-align: right;\">\n",
       "      <th></th>\n",
       "      <th>Customer_care_calls</th>\n",
       "      <th>Customer_rating</th>\n",
       "      <th>Prior_purchases</th>\n",
       "      <th>Discount_offered</th>\n",
       "      <th>Weight_in_gms</th>\n",
       "      <th>Warehouse_block</th>\n",
       "      <th>Mode_of_Shipment</th>\n",
       "      <th>Product_importance</th>\n",
       "      <th>Gender</th>\n",
       "      <th>Class</th>\n",
       "    </tr>\n",
       "  </thead>\n",
       "  <tbody>\n",
       "    <tr>\n",
       "      <th>5670</th>\n",
       "      <td>4</td>\n",
       "      <td>4</td>\n",
       "      <td>2</td>\n",
       "      <td>6</td>\n",
       "      <td>5221</td>\n",
       "      <td>F</td>\n",
       "      <td>Ship</td>\n",
       "      <td>medium</td>\n",
       "      <td>F</td>\n",
       "      <td>0</td>\n",
       "    </tr>\n",
       "    <tr>\n",
       "      <th>7662</th>\n",
       "      <td>4</td>\n",
       "      <td>4</td>\n",
       "      <td>2</td>\n",
       "      <td>6</td>\n",
       "      <td>5221</td>\n",
       "      <td>F</td>\n",
       "      <td>Ship</td>\n",
       "      <td>medium</td>\n",
       "      <td>F</td>\n",
       "      <td>0</td>\n",
       "    </tr>\n",
       "  </tbody>\n",
       "</table>\n",
       "</div>"
      ],
      "text/plain": [
       "      Customer_care_calls  Customer_rating  Prior_purchases  Discount_offered  \\\n",
       "5670                    4                4                2                 6   \n",
       "7662                    4                4                2                 6   \n",
       "\n",
       "      Weight_in_gms Warehouse_block Mode_of_Shipment Product_importance  \\\n",
       "5670           5221               F             Ship             medium   \n",
       "7662           5221               F             Ship             medium   \n",
       "\n",
       "     Gender  Class  \n",
       "5670      F      0  \n",
       "7662      F      0  "
      ]
     },
     "execution_count": 7,
     "metadata": {},
     "output_type": "execute_result"
    }
   ],
   "source": [
    "# check for the duplicate entry\n",
    "\n",
    "df[df.duplicated(subset=df.columns[0:9],keep=False)]"
   ]
  },
  {
   "cell_type": "markdown",
   "id": "0563a459",
   "metadata": {
    "papermill": {
     "duration": 0.010629,
     "end_time": "2023-03-12T14:57:27.325248",
     "exception": false,
     "start_time": "2023-03-12T14:57:27.314619",
     "status": "completed"
    },
    "tags": []
   },
   "source": [
    "As there is only one duplicate entry in the data of index number 5670 and 7662, the second similar entry in the data can be removed."
   ]
  },
  {
   "cell_type": "code",
   "execution_count": 8,
   "id": "2597243c",
   "metadata": {
    "execution": {
     "iopub.execute_input": "2023-03-12T14:57:27.350099Z",
     "iopub.status.busy": "2023-03-12T14:57:27.349605Z",
     "iopub.status.idle": "2023-03-12T14:57:27.365168Z",
     "shell.execute_reply": "2023-03-12T14:57:27.363996Z"
    },
    "papermill": {
     "duration": 0.031482,
     "end_time": "2023-03-12T14:57:27.368261",
     "exception": false,
     "start_time": "2023-03-12T14:57:27.336779",
     "status": "completed"
    },
    "tags": []
   },
   "outputs": [],
   "source": [
    "# remove the duplicate value from the data\n",
    "\n",
    "df.drop_duplicates(subset=df.columns[0:9],keep='first',inplace=True)"
   ]
  },
  {
   "cell_type": "code",
   "execution_count": 9,
   "id": "c7ac36d3",
   "metadata": {
    "execution": {
     "iopub.execute_input": "2023-03-12T14:57:27.398667Z",
     "iopub.status.busy": "2023-03-12T14:57:27.397639Z",
     "iopub.status.idle": "2023-03-12T14:57:27.414722Z",
     "shell.execute_reply": "2023-03-12T14:57:27.413384Z"
    },
    "papermill": {
     "duration": 0.034553,
     "end_time": "2023-03-12T14:57:27.417426",
     "exception": false,
     "start_time": "2023-03-12T14:57:27.382873",
     "status": "completed"
    },
    "tags": []
   },
   "outputs": [
    {
     "data": {
      "text/plain": [
       "0"
      ]
     },
     "execution_count": 9,
     "metadata": {},
     "output_type": "execute_result"
    }
   ],
   "source": [
    "# confirm the removal of duplicate entry\n",
    "\n",
    "df.duplicated(subset=df.columns[0:9]).sum()"
   ]
  },
  {
   "cell_type": "code",
   "execution_count": 10,
   "id": "75e391d6",
   "metadata": {
    "execution": {
     "iopub.execute_input": "2023-03-12T14:57:27.442987Z",
     "iopub.status.busy": "2023-03-12T14:57:27.441546Z",
     "iopub.status.idle": "2023-03-12T14:57:27.450270Z",
     "shell.execute_reply": "2023-03-12T14:57:27.448865Z"
    },
    "papermill": {
     "duration": 0.024389,
     "end_time": "2023-03-12T14:57:27.452907",
     "exception": false,
     "start_time": "2023-03-12T14:57:27.428518",
     "status": "completed"
    },
    "tags": []
   },
   "outputs": [
    {
     "data": {
      "text/plain": [
       "(10997, 10)"
      ]
     },
     "execution_count": 10,
     "metadata": {},
     "output_type": "execute_result"
    }
   ],
   "source": [
    "# shape of the dataframe\n",
    "\n",
    "df.shape"
   ]
  },
  {
   "cell_type": "code",
   "execution_count": 11,
   "id": "2700da98",
   "metadata": {
    "execution": {
     "iopub.execute_input": "2023-03-12T14:57:27.478924Z",
     "iopub.status.busy": "2023-03-12T14:57:27.477858Z",
     "iopub.status.idle": "2023-03-12T14:57:27.492378Z",
     "shell.execute_reply": "2023-03-12T14:57:27.490973Z"
    },
    "papermill": {
     "duration": 0.030795,
     "end_time": "2023-03-12T14:57:27.495138",
     "exception": false,
     "start_time": "2023-03-12T14:57:27.464343",
     "status": "completed"
    },
    "tags": []
   },
   "outputs": [
    {
     "data": {
      "text/plain": [
       "Customer_care_calls    0\n",
       "Customer_rating        0\n",
       "Prior_purchases        0\n",
       "Discount_offered       0\n",
       "Weight_in_gms          0\n",
       "Warehouse_block        0\n",
       "Mode_of_Shipment       0\n",
       "Product_importance     0\n",
       "Gender                 0\n",
       "Class                  0\n",
       "dtype: int64"
      ]
     },
     "execution_count": 11,
     "metadata": {},
     "output_type": "execute_result"
    }
   ],
   "source": [
    "# check for missing values in the data\n",
    "\n",
    "df.isna().sum()"
   ]
  },
  {
   "cell_type": "markdown",
   "id": "0a0a2f96",
   "metadata": {
    "papermill": {
     "duration": 0.011628,
     "end_time": "2023-03-12T14:57:27.518417",
     "exception": false,
     "start_time": "2023-03-12T14:57:27.506789",
     "status": "completed"
    },
    "tags": []
   },
   "source": [
    "The data does not contain any missing values in any of the column."
   ]
  },
  {
   "cell_type": "code",
   "execution_count": 12,
   "id": "1c1d975c",
   "metadata": {
    "execution": {
     "iopub.execute_input": "2023-03-12T14:57:27.544526Z",
     "iopub.status.busy": "2023-03-12T14:57:27.543449Z",
     "iopub.status.idle": "2023-03-12T14:57:27.584890Z",
     "shell.execute_reply": "2023-03-12T14:57:27.583681Z"
    },
    "papermill": {
     "duration": 0.057794,
     "end_time": "2023-03-12T14:57:27.587669",
     "exception": false,
     "start_time": "2023-03-12T14:57:27.529875",
     "status": "completed"
    },
    "tags": []
   },
   "outputs": [
    {
     "data": {
      "text/html": [
       "<div>\n",
       "<style scoped>\n",
       "    .dataframe tbody tr th:only-of-type {\n",
       "        vertical-align: middle;\n",
       "    }\n",
       "\n",
       "    .dataframe tbody tr th {\n",
       "        vertical-align: top;\n",
       "    }\n",
       "\n",
       "    .dataframe thead th {\n",
       "        text-align: right;\n",
       "    }\n",
       "</style>\n",
       "<table border=\"1\" class=\"dataframe\">\n",
       "  <thead>\n",
       "    <tr style=\"text-align: right;\">\n",
       "      <th></th>\n",
       "      <th>Customer_care_calls</th>\n",
       "      <th>Customer_rating</th>\n",
       "      <th>Prior_purchases</th>\n",
       "      <th>Discount_offered</th>\n",
       "      <th>Weight_in_gms</th>\n",
       "      <th>Class</th>\n",
       "    </tr>\n",
       "  </thead>\n",
       "  <tbody>\n",
       "    <tr>\n",
       "      <th>count</th>\n",
       "      <td>10997.000000</td>\n",
       "      <td>10997.000000</td>\n",
       "      <td>10997.00000</td>\n",
       "      <td>10997.000000</td>\n",
       "      <td>10997.000000</td>\n",
       "      <td>10997.000000</td>\n",
       "    </tr>\n",
       "    <tr>\n",
       "      <th>mean</th>\n",
       "      <td>4.054560</td>\n",
       "      <td>2.990361</td>\n",
       "      <td>3.56770</td>\n",
       "      <td>13.374375</td>\n",
       "      <td>3633.729199</td>\n",
       "      <td>0.596799</td>\n",
       "    </tr>\n",
       "    <tr>\n",
       "      <th>std</th>\n",
       "      <td>1.141549</td>\n",
       "      <td>1.413666</td>\n",
       "      <td>1.52292</td>\n",
       "      <td>16.206767</td>\n",
       "      <td>1635.386953</td>\n",
       "      <td>0.490563</td>\n",
       "    </tr>\n",
       "    <tr>\n",
       "      <th>min</th>\n",
       "      <td>2.000000</td>\n",
       "      <td>1.000000</td>\n",
       "      <td>2.00000</td>\n",
       "      <td>1.000000</td>\n",
       "      <td>1001.000000</td>\n",
       "      <td>0.000000</td>\n",
       "    </tr>\n",
       "    <tr>\n",
       "      <th>25%</th>\n",
       "      <td>3.000000</td>\n",
       "      <td>2.000000</td>\n",
       "      <td>3.00000</td>\n",
       "      <td>4.000000</td>\n",
       "      <td>1839.000000</td>\n",
       "      <td>0.000000</td>\n",
       "    </tr>\n",
       "    <tr>\n",
       "      <th>50%</th>\n",
       "      <td>4.000000</td>\n",
       "      <td>3.000000</td>\n",
       "      <td>3.00000</td>\n",
       "      <td>7.000000</td>\n",
       "      <td>4149.000000</td>\n",
       "      <td>1.000000</td>\n",
       "    </tr>\n",
       "    <tr>\n",
       "      <th>75%</th>\n",
       "      <td>5.000000</td>\n",
       "      <td>4.000000</td>\n",
       "      <td>4.00000</td>\n",
       "      <td>10.000000</td>\n",
       "      <td>5049.000000</td>\n",
       "      <td>1.000000</td>\n",
       "    </tr>\n",
       "    <tr>\n",
       "      <th>max</th>\n",
       "      <td>7.000000</td>\n",
       "      <td>5.000000</td>\n",
       "      <td>10.00000</td>\n",
       "      <td>65.000000</td>\n",
       "      <td>7846.000000</td>\n",
       "      <td>1.000000</td>\n",
       "    </tr>\n",
       "  </tbody>\n",
       "</table>\n",
       "</div>"
      ],
      "text/plain": [
       "       Customer_care_calls  Customer_rating  Prior_purchases  \\\n",
       "count         10997.000000     10997.000000      10997.00000   \n",
       "mean              4.054560         2.990361          3.56770   \n",
       "std               1.141549         1.413666          1.52292   \n",
       "min               2.000000         1.000000          2.00000   \n",
       "25%               3.000000         2.000000          3.00000   \n",
       "50%               4.000000         3.000000          3.00000   \n",
       "75%               5.000000         4.000000          4.00000   \n",
       "max               7.000000         5.000000         10.00000   \n",
       "\n",
       "       Discount_offered  Weight_in_gms         Class  \n",
       "count      10997.000000   10997.000000  10997.000000  \n",
       "mean          13.374375    3633.729199      0.596799  \n",
       "std           16.206767    1635.386953      0.490563  \n",
       "min            1.000000    1001.000000      0.000000  \n",
       "25%            4.000000    1839.000000      0.000000  \n",
       "50%            7.000000    4149.000000      1.000000  \n",
       "75%           10.000000    5049.000000      1.000000  \n",
       "max           65.000000    7846.000000      1.000000  "
      ]
     },
     "execution_count": 12,
     "metadata": {},
     "output_type": "execute_result"
    }
   ],
   "source": [
    "# description of numerical columns in the data\n",
    "\n",
    "df.describe()"
   ]
  },
  {
   "cell_type": "markdown",
   "id": "5d6ded61",
   "metadata": {
    "papermill": {
     "duration": 0.011712,
     "end_time": "2023-03-12T14:57:27.611453",
     "exception": false,
     "start_time": "2023-03-12T14:57:27.599741",
     "status": "completed"
    },
    "tags": []
   },
   "source": [
    "## Conclusions\n",
    "\n",
    "### Customer_care_calls\n",
    "- The average customer care calls is 4.\n",
    "- The customer care calls ranges between 2 and 7 for every customer.\n",
    "- There is no customer in the data who hasn't called the customer care. may indicate that the customers are facing issues regarding their orders.\n",
    "\n",
    "### Customer_rating\n",
    "- The customer rating lies in the range of 1 for minimum to 5 for maximum rating.\n",
    "\n",
    "## Prior_purchases\n",
    "- The prior purchases made by the customers are in the range of 2 for minimum and 10 for maximum.\n",
    "- Around 75% of the customers have made purchases up to 4 purchases in the past.\n",
    "\n",
    "## Discount_offered\n",
    "- The range of this column is very large ranging for value of 1 for the minimum to 65 for the maximum.\n",
    "- 75% of the customers are offered less or equal to 10% of discounts at max.\n",
    "- Some customers are offered very huge discounts.\n",
    "- The column has right skewed data.\n",
    "\n",
    "## Weight_in_gms\n",
    "- The weight of the packages ranges between 1 kg to around 7.8 kg.\n",
    "- Most of the packages weigh around 3.5 kg.\n",
    "- The median value of weights is greater than the mean which indicates the column to be left skewed."
   ]
  },
  {
   "cell_type": "code",
   "execution_count": 13,
   "id": "01b705e7",
   "metadata": {
    "execution": {
     "iopub.execute_input": "2023-03-12T14:57:27.637348Z",
     "iopub.status.busy": "2023-03-12T14:57:27.636796Z",
     "iopub.status.idle": "2023-03-12T14:57:27.666690Z",
     "shell.execute_reply": "2023-03-12T14:57:27.665384Z"
    },
    "papermill": {
     "duration": 0.046285,
     "end_time": "2023-03-12T14:57:27.669556",
     "exception": false,
     "start_time": "2023-03-12T14:57:27.623271",
     "status": "completed"
    },
    "tags": []
   },
   "outputs": [
    {
     "data": {
      "text/html": [
       "<div>\n",
       "<style scoped>\n",
       "    .dataframe tbody tr th:only-of-type {\n",
       "        vertical-align: middle;\n",
       "    }\n",
       "\n",
       "    .dataframe tbody tr th {\n",
       "        vertical-align: top;\n",
       "    }\n",
       "\n",
       "    .dataframe thead th {\n",
       "        text-align: right;\n",
       "    }\n",
       "</style>\n",
       "<table border=\"1\" class=\"dataframe\">\n",
       "  <thead>\n",
       "    <tr style=\"text-align: right;\">\n",
       "      <th></th>\n",
       "      <th>Warehouse_block</th>\n",
       "      <th>Mode_of_Shipment</th>\n",
       "      <th>Product_importance</th>\n",
       "      <th>Gender</th>\n",
       "    </tr>\n",
       "  </thead>\n",
       "  <tbody>\n",
       "    <tr>\n",
       "      <th>count</th>\n",
       "      <td>10997</td>\n",
       "      <td>10997</td>\n",
       "      <td>10997</td>\n",
       "      <td>10997</td>\n",
       "    </tr>\n",
       "    <tr>\n",
       "      <th>unique</th>\n",
       "      <td>5</td>\n",
       "      <td>3</td>\n",
       "      <td>3</td>\n",
       "      <td>2</td>\n",
       "    </tr>\n",
       "    <tr>\n",
       "      <th>top</th>\n",
       "      <td>F</td>\n",
       "      <td>Ship</td>\n",
       "      <td>low</td>\n",
       "      <td>F</td>\n",
       "    </tr>\n",
       "    <tr>\n",
       "      <th>freq</th>\n",
       "      <td>3665</td>\n",
       "      <td>7460</td>\n",
       "      <td>5296</td>\n",
       "      <td>5543</td>\n",
       "    </tr>\n",
       "  </tbody>\n",
       "</table>\n",
       "</div>"
      ],
      "text/plain": [
       "       Warehouse_block Mode_of_Shipment Product_importance Gender\n",
       "count            10997            10997              10997  10997\n",
       "unique               5                3                  3      2\n",
       "top                  F             Ship                low      F\n",
       "freq              3665             7460               5296   5543"
      ]
     },
     "execution_count": 13,
     "metadata": {},
     "output_type": "execute_result"
    }
   ],
   "source": [
    "# description of categorical columns\n",
    "\n",
    "df.describe(include='object')"
   ]
  },
  {
   "cell_type": "code",
   "execution_count": 14,
   "id": "d722fdd6",
   "metadata": {
    "execution": {
     "iopub.execute_input": "2023-03-12T14:57:27.695866Z",
     "iopub.status.busy": "2023-03-12T14:57:27.695279Z",
     "iopub.status.idle": "2023-03-12T14:57:27.714960Z",
     "shell.execute_reply": "2023-03-12T14:57:27.713253Z"
    },
    "papermill": {
     "duration": 0.036519,
     "end_time": "2023-03-12T14:57:27.718032",
     "exception": false,
     "start_time": "2023-03-12T14:57:27.681513",
     "status": "completed"
    },
    "tags": []
   },
   "outputs": [
    {
     "name": "stdout",
     "output_type": "stream",
     "text": [
      "<class 'pandas.core.frame.DataFrame'>\n",
      "Int64Index: 10997 entries, 0 to 10997\n",
      "Data columns (total 10 columns):\n",
      " #   Column               Non-Null Count  Dtype \n",
      "---  ------               --------------  ----- \n",
      " 0   Customer_care_calls  10997 non-null  int64 \n",
      " 1   Customer_rating      10997 non-null  int64 \n",
      " 2   Prior_purchases      10997 non-null  int64 \n",
      " 3   Discount_offered     10997 non-null  int64 \n",
      " 4   Weight_in_gms        10997 non-null  int64 \n",
      " 5   Warehouse_block      10997 non-null  object\n",
      " 6   Mode_of_Shipment     10997 non-null  object\n",
      " 7   Product_importance   10997 non-null  object\n",
      " 8   Gender               10997 non-null  object\n",
      " 9   Class                10997 non-null  int64 \n",
      "dtypes: int64(6), object(4)\n",
      "memory usage: 945.1+ KB\n"
     ]
    }
   ],
   "source": [
    "df.info()"
   ]
  },
  {
   "cell_type": "code",
   "execution_count": 15,
   "id": "9876ecbb",
   "metadata": {
    "execution": {
     "iopub.execute_input": "2023-03-12T14:57:27.745487Z",
     "iopub.status.busy": "2023-03-12T14:57:27.744911Z",
     "iopub.status.idle": "2023-03-12T14:57:27.752163Z",
     "shell.execute_reply": "2023-03-12T14:57:27.750411Z"
    },
    "papermill": {
     "duration": 0.024153,
     "end_time": "2023-03-12T14:57:27.754937",
     "exception": false,
     "start_time": "2023-03-12T14:57:27.730784",
     "status": "completed"
    },
    "tags": []
   },
   "outputs": [],
   "source": [
    "# make all the column names lowercase\n",
    "\n",
    "df.columns = df.columns.str.lower()"
   ]
  },
  {
   "cell_type": "code",
   "execution_count": 16,
   "id": "76ca2de0",
   "metadata": {
    "execution": {
     "iopub.execute_input": "2023-03-12T14:57:27.781963Z",
     "iopub.status.busy": "2023-03-12T14:57:27.781439Z",
     "iopub.status.idle": "2023-03-12T14:57:27.793085Z",
     "shell.execute_reply": "2023-03-12T14:57:27.791752Z"
    },
    "papermill": {
     "duration": 0.028516,
     "end_time": "2023-03-12T14:57:27.795698",
     "exception": false,
     "start_time": "2023-03-12T14:57:27.767182",
     "status": "completed"
    },
    "tags": []
   },
   "outputs": [
    {
     "data": {
      "text/plain": [
       "1    0.596799\n",
       "0    0.403201\n",
       "Name: class, dtype: float64"
      ]
     },
     "execution_count": 16,
     "metadata": {},
     "output_type": "execute_result"
    }
   ],
   "source": [
    "# check the target column \n",
    "\n",
    "df['class'].value_counts(normalize=True)"
   ]
  },
  {
   "cell_type": "markdown",
   "id": "a918ce4b",
   "metadata": {
    "papermill": {
     "duration": 0.011848,
     "end_time": "2023-03-12T14:57:27.819771",
     "exception": false,
     "start_time": "2023-03-12T14:57:27.807923",
     "status": "completed"
    },
    "tags": []
   },
   "source": [
    "### Customer care calls"
   ]
  },
  {
   "cell_type": "code",
   "execution_count": 17,
   "id": "5cccf33f",
   "metadata": {
    "execution": {
     "iopub.execute_input": "2023-03-12T14:57:27.846976Z",
     "iopub.status.busy": "2023-03-12T14:57:27.846448Z",
     "iopub.status.idle": "2023-03-12T14:57:27.858107Z",
     "shell.execute_reply": "2023-03-12T14:57:27.856712Z"
    },
    "papermill": {
     "duration": 0.028924,
     "end_time": "2023-03-12T14:57:27.861041",
     "exception": false,
     "start_time": "2023-03-12T14:57:27.832117",
     "status": "completed"
    },
    "tags": []
   },
   "outputs": [
    {
     "data": {
      "text/plain": [
       "4    32.336092\n",
       "3    29.244339\n",
       "5    21.169410\n",
       "6     9.211603\n",
       "2     5.801582\n",
       "7     2.236974\n",
       "Name: customer_care_calls, dtype: float64"
      ]
     },
     "execution_count": 17,
     "metadata": {},
     "output_type": "execute_result"
    }
   ],
   "source": [
    "# ratio of customer care calls \n",
    "\n",
    "df['customer_care_calls'].value_counts(normalize=True) * 100"
   ]
  },
  {
   "cell_type": "code",
   "execution_count": 18,
   "id": "98b810eb",
   "metadata": {
    "execution": {
     "iopub.execute_input": "2023-03-12T14:57:27.888423Z",
     "iopub.status.busy": "2023-03-12T14:57:27.887891Z",
     "iopub.status.idle": "2023-03-12T14:57:28.220577Z",
     "shell.execute_reply": "2023-03-12T14:57:28.219430Z"
    },
    "papermill": {
     "duration": 0.349931,
     "end_time": "2023-03-12T14:57:28.223471",
     "exception": false,
     "start_time": "2023-03-12T14:57:27.873540",
     "status": "completed"
    },
    "tags": []
   },
   "outputs": [
    {
     "data": {
      "image/png": "[encoded data removed]",
      "text/plain": [
       "<Figure size 640x480 with 1 Axes>"
      ]
     },
     "metadata": {},
     "output_type": "display_data"
    }
   ],
   "source": [
    "# count the products shipped wrt customer care calls made\n",
    "\n",
    "sns.countplot(x='customer_care_calls',data=df,hue='class')\n",
    "plt.title('Customer Care Calls based on Class')\n",
    "plt.show()"
   ]
  },
  {
   "cell_type": "code",
   "execution_count": 19,
   "id": "02d4901f",
   "metadata": {
    "execution": {
     "iopub.execute_input": "2023-03-12T14:57:28.252876Z",
     "iopub.status.busy": "2023-03-12T14:57:28.251539Z",
     "iopub.status.idle": "2023-03-12T14:57:28.605918Z",
     "shell.execute_reply": "2023-03-12T14:57:28.604391Z"
    },
    "papermill": {
     "duration": 0.372656,
     "end_time": "2023-03-12T14:57:28.609006",
     "exception": false,
     "start_time": "2023-03-12T14:57:28.236350",
     "status": "completed"
    },
    "tags": []
   },
   "outputs": [
    {
     "data": {
      "image/png": "[encoded data removed]",
      "text/plain": [
       "<Figure size 640x480 with 1 Axes>"
      ]
     },
     "metadata": {},
     "output_type": "display_data"
    }
   ],
   "source": [
    "# check the percentage customer care calls for every class\n",
    "\n",
    "pd.crosstab(index=df['customer_care_calls'],columns=df['class'],normalize=True).plot(kind='bar')\n",
    "plt.show()"
   ]
  },
  {
   "cell_type": "markdown",
   "id": "94751be9",
   "metadata": {
    "papermill": {
     "duration": 0.014491,
     "end_time": "2023-03-12T14:57:28.636617",
     "exception": false,
     "start_time": "2023-03-12T14:57:28.622126",
     "status": "completed"
    },
    "tags": []
   },
   "source": [
    "- In every case it is observed that the customer care calls are more in frequency when the package is on time and less in frequency when not on time.\n",
    "- This customer care call can also be for the tracking purposes."
   ]
  },
  {
   "cell_type": "code",
   "execution_count": 20,
   "id": "a010ef80",
   "metadata": {
    "execution": {
     "iopub.execute_input": "2023-03-12T14:57:28.666668Z",
     "iopub.status.busy": "2023-03-12T14:57:28.665584Z",
     "iopub.status.idle": "2023-03-12T14:57:28.672731Z",
     "shell.execute_reply": "2023-03-12T14:57:28.671328Z"
    },
    "papermill": {
     "duration": 0.025823,
     "end_time": "2023-03-12T14:57:28.675766",
     "exception": false,
     "start_time": "2023-03-12T14:57:28.649943",
     "status": "completed"
    },
    "tags": []
   },
   "outputs": [],
   "source": [
    "# percentage of customer care calls depending on different classes\n",
    "\n",
    "class_grp = df.groupby(by='class')"
   ]
  },
  {
   "cell_type": "code",
   "execution_count": 21,
   "id": "54e325b0",
   "metadata": {
    "execution": {
     "iopub.execute_input": "2023-03-12T14:57:28.705452Z",
     "iopub.status.busy": "2023-03-12T14:57:28.704900Z",
     "iopub.status.idle": "2023-03-12T14:57:29.156925Z",
     "shell.execute_reply": "2023-03-12T14:57:29.155031Z"
    },
    "papermill": {
     "duration": 0.470915,
     "end_time": "2023-03-12T14:57:29.160408",
     "exception": false,
     "start_time": "2023-03-12T14:57:28.689493",
     "status": "completed"
    },
    "tags": []
   },
   "outputs": [
    {
     "data": {
      "image/png": "[encoded data removed]",
      "text/plain": [
       "<Figure size 640x480 with 1 Axes>"
      ]
     },
     "metadata": {},
     "output_type": "display_data"
    },
    {
     "data": {
      "image/png": "[encoded data removed]",
      "text/plain": [
       "<Figure size 640x480 with 1 Axes>"
      ]
     },
     "metadata": {},
     "output_type": "display_data"
    }
   ],
   "source": [
    "for grp in class_grp.groups.keys():\n",
    "    class_grp.get_group(grp)['customer_care_calls'].value_counts(normalize=True).sort_index().plot(kind='bar')\n",
    "    plt.title(f'Ratio of customer care calls for class {grp}')\n",
    "    plt.show()"
   ]
  },
  {
   "cell_type": "markdown",
   "id": "9ad3c27d",
   "metadata": {
    "papermill": {
     "duration": 0.014144,
     "end_time": "2023-03-12T14:57:29.188571",
     "exception": false,
     "start_time": "2023-03-12T14:57:29.174427",
     "status": "completed"
    },
    "tags": []
   },
   "source": [
    "- The ratio of Customer care calls is almost similar for both the classes, which means that these calls does not depend on the delivery of the package, and on most cases avg of 4 customer care calls are made by the customers."
   ]
  },
  {
   "cell_type": "code",
   "execution_count": 22,
   "id": "d8aa72e2",
   "metadata": {
    "execution": {
     "iopub.execute_input": "2023-03-12T14:57:29.219034Z",
     "iopub.status.busy": "2023-03-12T14:57:29.218490Z",
     "iopub.status.idle": "2023-03-12T14:57:30.297851Z",
     "shell.execute_reply": "2023-03-12T14:57:30.296290Z"
    },
    "papermill": {
     "duration": 1.099234,
     "end_time": "2023-03-12T14:57:30.301676",
     "exception": false,
     "start_time": "2023-03-12T14:57:29.202442",
     "status": "completed"
    },
    "tags": []
   },
   "outputs": [
    {
     "data": {
      "image/png": "[encoded data removed]",
      "text/plain": [
       "<Figure size 1000x1500 with 5 Axes>"
      ]
     },
     "metadata": {},
     "output_type": "display_data"
    }
   ],
   "source": [
    "# customer care calls depending on customer rating\n",
    "\n",
    "sns.catplot(x='customer_care_calls',data=df,col='customer_rating',col_wrap=2,kind='count')\n",
    "plt.show()"
   ]
  },
  {
   "cell_type": "markdown",
   "id": "8988c24a",
   "metadata": {
    "papermill": {
     "duration": 0.014859,
     "end_time": "2023-03-12T14:57:30.331891",
     "exception": false,
     "start_time": "2023-03-12T14:57:30.317032",
     "status": "completed"
    },
    "tags": []
   },
   "source": [
    "- Customer rating seems to have no impact on the customer care calls.\n",
    "- The number of customer care calls for different customer ratings seems to be similar. "
   ]
  },
  {
   "cell_type": "code",
   "execution_count": 23,
   "id": "492bdb11",
   "metadata": {
    "execution": {
     "iopub.execute_input": "2023-03-12T14:57:30.364774Z",
     "iopub.status.busy": "2023-03-12T14:57:30.364177Z",
     "iopub.status.idle": "2023-03-12T14:57:30.390401Z",
     "shell.execute_reply": "2023-03-12T14:57:30.388895Z"
    },
    "papermill": {
     "duration": 0.046419,
     "end_time": "2023-03-12T14:57:30.393324",
     "exception": false,
     "start_time": "2023-03-12T14:57:30.346905",
     "status": "completed"
    },
    "tags": []
   },
   "outputs": [
    {
     "name": "stdout",
     "output_type": "stream",
     "text": [
      "The two features are unrelated to each other\n",
      "The p value is  0.35952312798167263\n"
     ]
    }
   ],
   "source": [
    "# chi2 test on customer_care_calls and customer_rating\n",
    "\n",
    "from scipy.stats import chi2_contingency\n",
    "\n",
    "contingency = pd.crosstab(index=df['customer_care_calls'],columns=df['customer_rating'])\n",
    "\n",
    "stats,p_val,dof,expect = chi2_contingency(contingency)\n",
    "\n",
    "ci = 0.05\n",
    "\n",
    "if p_val > ci:\n",
    "    print('The two features are unrelated to each other')\n",
    "else:\n",
    "    print('The two features are related to each other')\n",
    "\n",
    "\n",
    "print('The p value is ',p_val)"
   ]
  },
  {
   "cell_type": "code",
   "execution_count": 24,
   "id": "1c13df04",
   "metadata": {
    "execution": {
     "iopub.execute_input": "2023-03-12T14:57:30.426823Z",
     "iopub.status.busy": "2023-03-12T14:57:30.425371Z",
     "iopub.status.idle": "2023-03-12T14:57:31.092176Z",
     "shell.execute_reply": "2023-03-12T14:57:31.090596Z"
    },
    "papermill": {
     "duration": 0.687314,
     "end_time": "2023-03-12T14:57:31.095580",
     "exception": false,
     "start_time": "2023-03-12T14:57:30.408266",
     "status": "completed"
    },
    "tags": []
   },
   "outputs": [
    {
     "data": {
      "image/png": "[encoded data removed]",
      "text/plain": [
       "<Figure size 1500x500 with 3 Axes>"
      ]
     },
     "metadata": {},
     "output_type": "display_data"
    }
   ],
   "source": [
    "# mode of shipment in relation to customer care calls.\n",
    "\n",
    "sns.catplot(x='customer_care_calls',data=df,col='mode_of_shipment',col_wrap=3,kind='count')\n",
    "plt.show()"
   ]
  },
  {
   "cell_type": "markdown",
   "id": "628c4747",
   "metadata": {
    "papermill": {
     "duration": 0.016214,
     "end_time": "2023-03-12T14:57:31.127648",
     "exception": false,
     "start_time": "2023-03-12T14:57:31.111434",
     "status": "completed"
    },
    "tags": []
   },
   "source": [
    "- More calls are made by the customers when the mode of shipment is 'Ship' as compared to 'Road' and 'Flight' shipments."
   ]
  },
  {
   "cell_type": "code",
   "execution_count": 25,
   "id": "2b8f3e05",
   "metadata": {
    "execution": {
     "iopub.execute_input": "2023-03-12T14:57:31.161574Z",
     "iopub.status.busy": "2023-03-12T14:57:31.160479Z",
     "iopub.status.idle": "2023-03-12T14:57:31.189117Z",
     "shell.execute_reply": "2023-03-12T14:57:31.187170Z"
    },
    "papermill": {
     "duration": 0.04982,
     "end_time": "2023-03-12T14:57:31.192763",
     "exception": false,
     "start_time": "2023-03-12T14:57:31.142943",
     "status": "completed"
    },
    "tags": []
   },
   "outputs": [
    {
     "name": "stdout",
     "output_type": "stream",
     "text": [
      "The two features are unrelated to each other\n",
      "The p value is  0.1222588359940189\n"
     ]
    }
   ],
   "source": [
    "# chi2 test on customer_care_calls and mode_of_shipment\n",
    "\n",
    "from scipy.stats import chi2_contingency\n",
    "\n",
    "contingency = pd.crosstab(index=df['customer_care_calls'],columns=df['mode_of_shipment'])\n",
    "\n",
    "stats,p_val,dof,expect = chi2_contingency(contingency)\n",
    "\n",
    "ci = 0.05\n",
    "\n",
    "if p_val > ci:\n",
    "    print('The two features are unrelated to each other')\n",
    "else:\n",
    "    print('The two features are related to each other')\n",
    "\n",
    "\n",
    "print('The p value is ',p_val)"
   ]
  },
  {
   "cell_type": "code",
   "execution_count": 26,
   "id": "5f59ee60",
   "metadata": {
    "execution": {
     "iopub.execute_input": "2023-03-12T14:57:31.226889Z",
     "iopub.status.busy": "2023-03-12T14:57:31.225724Z",
     "iopub.status.idle": "2023-03-12T14:57:31.757568Z",
     "shell.execute_reply": "2023-03-12T14:57:31.756134Z"
    },
    "papermill": {
     "duration": 0.552213,
     "end_time": "2023-03-12T14:57:31.760606",
     "exception": false,
     "start_time": "2023-03-12T14:57:31.208393",
     "status": "completed"
    },
    "tags": []
   },
   "outputs": [
    {
     "data": {
      "application/vnd.jupyter.widget-view+json": {
       "model_id": "142e636109404f68abb85d13fadf0609",
       "version_major": 2,
       "version_minor": 0
      },
      "text/plain": [
       "interactive(children=(RadioButtons(description='Choose the estimator', options=('mean', 'median'), value='mean…"
      ]
     },
     "metadata": {},
     "output_type": "display_data"
    }
   ],
   "source": [
    "# customer care calls and discount offered\n",
    "\n",
    "est_radio = widgets.RadioButtons(options=['mean','median'],index=0,description='Choose the estimator')\n",
    "hue_checkbox = widgets.Checkbox(description='Show based on class')\n",
    "\n",
    "def discount_calls(est,show_class=False):\n",
    "    if show_class == False:\n",
    "        sns.barplot(x='customer_care_calls',y='discount_offered',data=df,estimator=est)\n",
    "        plt.show()\n",
    "    else:\n",
    "        sns.catplot(x='customer_care_calls',y='discount_offered',data=df,kind='bar',estimator=est,col='class')\n",
    "        plt.show()\n",
    "\n",
    "display(widgets.interactive(discount_calls,est=est_radio,show_class=hue_checkbox))"
   ]
  },
  {
   "cell_type": "markdown",
   "id": "08bd626b",
   "metadata": {
    "papermill": {
     "duration": 0.015511,
     "end_time": "2023-03-12T14:57:31.792548",
     "exception": false,
     "start_time": "2023-03-12T14:57:31.777037",
     "status": "completed"
    },
    "tags": []
   },
   "source": [
    "- The customers given larger avg discounts are less likely to call the customer care then those who are given lesser avg discounts."
   ]
  },
  {
   "cell_type": "code",
   "execution_count": 27,
   "id": "f20186b8",
   "metadata": {
    "execution": {
     "iopub.execute_input": "2023-03-12T14:57:31.827569Z",
     "iopub.status.busy": "2023-03-12T14:57:31.826045Z",
     "iopub.status.idle": "2023-03-12T14:57:32.829839Z",
     "shell.execute_reply": "2023-03-12T14:57:32.826243Z"
    },
    "papermill": {
     "duration": 1.024839,
     "end_time": "2023-03-12T14:57:32.833204",
     "exception": false,
     "start_time": "2023-03-12T14:57:31.808365",
     "status": "completed"
    },
    "tags": []
   },
   "outputs": [
    {
     "data": {
      "image/png": "[encoded data removed]",
      "text/plain": [
       "<Figure size 1000x500 with 2 Axes>"
      ]
     },
     "metadata": {},
     "output_type": "display_data"
    }
   ],
   "source": [
    "sns.catplot(x='customer_care_calls',y='discount_offered',data=df,kind='bar',col='class')\n",
    "plt.show()\n"
   ]
  },
  {
   "cell_type": "markdown",
   "id": "f70df611",
   "metadata": {
    "papermill": {
     "duration": 0.016788,
     "end_time": "2023-03-12T14:57:32.867247",
     "exception": false,
     "start_time": "2023-03-12T14:57:32.850459",
     "status": "completed"
    },
    "tags": []
   },
   "source": [
    "- The mean discount offered to customers when the package is not delivered is similar, irrespective of the customer care calls made.\n",
    "- It is observed that for customers where the package has been delivered, more discounts on avg are offered to those customers which are making lesser customer care calls.\n",
    "- The trend of avg discounts offered declines when the customer has made large customer care calls.\n",
    "\n",
    "**Company gives more discount to customers who are making less of customer care calls**"
   ]
  },
  {
   "cell_type": "code",
   "execution_count": 28,
   "id": "46c45542",
   "metadata": {
    "execution": {
     "iopub.execute_input": "2023-03-12T14:57:32.904923Z",
     "iopub.status.busy": "2023-03-12T14:57:32.904220Z",
     "iopub.status.idle": "2023-03-12T14:57:32.923205Z",
     "shell.execute_reply": "2023-03-12T14:57:32.921658Z"
    },
    "papermill": {
     "duration": 0.042154,
     "end_time": "2023-03-12T14:57:32.926333",
     "exception": false,
     "start_time": "2023-03-12T14:57:32.884179",
     "status": "completed"
    },
    "tags": []
   },
   "outputs": [
    {
     "data": {
      "text/html": [
       "<div>\n",
       "<style scoped>\n",
       "    .dataframe tbody tr th:only-of-type {\n",
       "        vertical-align: middle;\n",
       "    }\n",
       "\n",
       "    .dataframe tbody tr th {\n",
       "        vertical-align: top;\n",
       "    }\n",
       "\n",
       "    .dataframe thead th {\n",
       "        text-align: right;\n",
       "    }\n",
       "</style>\n",
       "<table border=\"1\" class=\"dataframe\">\n",
       "  <thead>\n",
       "    <tr style=\"text-align: right;\">\n",
       "      <th></th>\n",
       "      <th>customer_care_calls</th>\n",
       "      <th>discount_offered</th>\n",
       "    </tr>\n",
       "  </thead>\n",
       "  <tbody>\n",
       "    <tr>\n",
       "      <th>customer_care_calls</th>\n",
       "      <td>1.000000</td>\n",
       "      <td>-0.151081</td>\n",
       "    </tr>\n",
       "    <tr>\n",
       "      <th>discount_offered</th>\n",
       "      <td>-0.151081</td>\n",
       "      <td>1.000000</td>\n",
       "    </tr>\n",
       "  </tbody>\n",
       "</table>\n",
       "</div>"
      ],
      "text/plain": [
       "                     customer_care_calls  discount_offered\n",
       "customer_care_calls             1.000000         -0.151081\n",
       "discount_offered               -0.151081          1.000000"
      ]
     },
     "execution_count": 28,
     "metadata": {},
     "output_type": "execute_result"
    }
   ],
   "source": [
    "# correlation between customer_care calls and discount offered where package is delivered\n",
    "\n",
    "df_temp = df[df['class'] == 1]\n",
    "\n",
    "df_temp[['customer_care_calls','discount_offered']].corr()"
   ]
  },
  {
   "cell_type": "markdown",
   "id": "d244dd8b",
   "metadata": {
    "papermill": {
     "duration": 0.016796,
     "end_time": "2023-03-12T14:57:32.960613",
     "exception": false,
     "start_time": "2023-03-12T14:57:32.943817",
     "status": "completed"
    },
    "tags": []
   },
   "source": [
    "**There seems to be slight negative correlation between customer_care calls and discount offered, the more calls are made the lesser discount is offered to the customers.**"
   ]
  },
  {
   "cell_type": "code",
   "execution_count": 29,
   "id": "85d98665",
   "metadata": {
    "execution": {
     "iopub.execute_input": "2023-03-12T14:57:32.999733Z",
     "iopub.status.busy": "2023-03-12T14:57:32.997990Z",
     "iopub.status.idle": "2023-03-12T14:57:33.646437Z",
     "shell.execute_reply": "2023-03-12T14:57:33.644920Z"
    },
    "papermill": {
     "duration": 0.671048,
     "end_time": "2023-03-12T14:57:33.649346",
     "exception": false,
     "start_time": "2023-03-12T14:57:32.978298",
     "status": "completed"
    },
    "tags": []
   },
   "outputs": [
    {
     "data": {
      "image/png": "[encoded data removed]",
      "text/plain": [
       "<Figure size 640x480 with 1 Axes>"
      ]
     },
     "metadata": {},
     "output_type": "display_data"
    }
   ],
   "source": [
    "# distribution plot of discount offered\n",
    "\n",
    "sns.kdeplot(x='discount_offered',data=df)\n",
    "plt.show()"
   ]
  },
  {
   "cell_type": "markdown",
   "id": "eabfad3a",
   "metadata": {
    "papermill": {
     "duration": 0.017178,
     "end_time": "2023-03-12T14:57:33.683597",
     "exception": false,
     "start_time": "2023-03-12T14:57:33.666419",
     "status": "completed"
    },
    "tags": []
   },
   "source": [
    "The distribution is right skewed in nature and appears that some customers are offered very huge discounts by the company."
   ]
  },
  {
   "cell_type": "code",
   "execution_count": 30,
   "id": "ab35a03b",
   "metadata": {
    "execution": {
     "iopub.execute_input": "2023-03-12T14:57:33.721008Z",
     "iopub.status.busy": "2023-03-12T14:57:33.719721Z",
     "iopub.status.idle": "2023-03-12T14:57:33.729590Z",
     "shell.execute_reply": "2023-03-12T14:57:33.728271Z"
    },
    "papermill": {
     "duration": 0.031445,
     "end_time": "2023-03-12T14:57:33.732333",
     "exception": false,
     "start_time": "2023-03-12T14:57:33.700888",
     "status": "completed"
    },
    "tags": []
   },
   "outputs": [
    {
     "data": {
      "text/plain": [
       "1.7986406504273844"
      ]
     },
     "execution_count": 30,
     "metadata": {},
     "output_type": "execute_result"
    }
   ],
   "source": [
    "# skewness of discount offered\n",
    "\n",
    "df['discount_offered'].skew()"
   ]
  },
  {
   "cell_type": "code",
   "execution_count": 31,
   "id": "9bbe27f9",
   "metadata": {
    "execution": {
     "iopub.execute_input": "2023-03-12T14:57:33.769226Z",
     "iopub.status.busy": "2023-03-12T14:57:33.768723Z",
     "iopub.status.idle": "2023-03-12T14:57:33.969200Z",
     "shell.execute_reply": "2023-03-12T14:57:33.967583Z"
    },
    "papermill": {
     "duration": 0.222818,
     "end_time": "2023-03-12T14:57:33.972453",
     "exception": false,
     "start_time": "2023-03-12T14:57:33.749635",
     "status": "completed"
    },
    "tags": []
   },
   "outputs": [
    {
     "data": {
      "image/png": "[encoded data removed]",
      "text/plain": [
       "<Figure size 640x480 with 1 Axes>"
      ]
     },
     "metadata": {},
     "output_type": "display_data"
    }
   ],
   "source": [
    "# check for outliers in discount_offered\n",
    "\n",
    "sns.boxplot(y='discount_offered',data=df)\n",
    "plt.show()"
   ]
  },
  {
   "cell_type": "code",
   "execution_count": 32,
   "id": "cedffe90",
   "metadata": {
    "execution": {
     "iopub.execute_input": "2023-03-12T14:57:34.009640Z",
     "iopub.status.busy": "2023-03-12T14:57:34.009099Z",
     "iopub.status.idle": "2023-03-12T14:57:34.205864Z",
     "shell.execute_reply": "2023-03-12T14:57:34.204715Z"
    },
    "papermill": {
     "duration": 0.219325,
     "end_time": "2023-03-12T14:57:34.209051",
     "exception": false,
     "start_time": "2023-03-12T14:57:33.989726",
     "status": "completed"
    },
    "tags": []
   },
   "outputs": [
    {
     "data": {
      "image/png": "[encoded data removed]",
      "text/plain": [
       "<Figure size 640x480 with 1 Axes>"
      ]
     },
     "metadata": {},
     "output_type": "display_data"
    }
   ],
   "source": [
    "# outliers based on class\n",
    "\n",
    "\n",
    "sns.boxplot(y='discount_offered',data=df)\n",
    "plt.show()"
   ]
  },
  {
   "cell_type": "code",
   "execution_count": null,
   "id": "4684c0e5",
   "metadata": {
    "papermill": {
     "duration": 0.017478,
     "end_time": "2023-03-12T14:57:34.244474",
     "exception": false,
     "start_time": "2023-03-12T14:57:34.226996",
     "status": "completed"
    },
    "tags": []
   },
   "outputs": [],
   "source": []
  }
 ],
 "metadata": {
  "kernelspec": {
   "display_name": "Python 3",
   "language": "python",
   "name": "python3"
  },
  "language_info": {
   "codemirror_mode": {
    "name": "ipython",
    "version": 3
   },
   "file_extension": ".py",
   "mimetype": "text/x-python",
   "name": "python",
   "nbconvert_exporter": "python",
   "pygments_lexer": "ipython3",
   "version": "3.7.12"
  },
  "papermill": {
   "default_parameters": {},
   "duration": 23.821273,
   "end_time": "2023-03-12T14:57:35.390654",
   "environment_variables": {},
   "exception": null,
   "input_path": "__notebook__.ipynb",
   "output_path": "__notebook__.ipynb",
   "parameters": {},
   "start_time": "2023-03-12T14:57:11.569381",
   "version": "2.4.0"
  },
  "widgets": {
   "application/vnd.jupyter.widget-state+json": {
    "state": {
     "060670a04d1345d98d158358e6b3c63a": {
      "model_module": "@jupyter-widgets/controls",
      "model_module_version": "1.5.0",
      "model_name": "DescriptionStyleModel",
      "state": {
       "_model_module": "@jupyter-widgets/controls",
       "_model_module_version": "1.5.0",
       "_model_name": "DescriptionStyleModel",
       "_view_count": null,
       "_view_module": "@jupyter-widgets/base",
       "_view_module_version": "1.2.0",
       "_view_name": "StyleView",
       "description_width": ""
      }
     },
     "0caad412dea0422ba699301ad68dd9a5": {
      "model_module": "@jupyter-widgets/controls",
      "model_module_version": "1.5.0",
      "model_name": "RadioButtonsModel",
      "state": {
       "_dom_classes": [],
       "_model_module": "@jupyter-widgets/controls",
       "_model_module_version": "1.5.0",
       "_model_name": "RadioButtonsModel",
       "_options_labels": [
        "mean",
        "median"
       ],
       "_view_count": null,
       "_view_module": "@jupyter-widgets/controls",
       "_view_module_version": "1.5.0",
       "_view_name": "RadioButtonsView",
       "description": "Choose the estimator",
       "description_tooltip": null,
       "disabled": false,
       "index": 0,
       "layout": "IPY_MODEL_26525f568b4641cb86baba468eebb512",
       "style": "IPY_MODEL_060670a04d1345d98d158358e6b3c63a"
      }
     },
     "10252b3a76854a64892efb3547ca121a": {
      "model_module": "@jupyter-widgets/controls",
      "model_module_version": "1.5.0",
      "model_name": "CheckboxModel",
      "state": {
       "_dom_classes": [],
       "_model_module": "@jupyter-widgets/controls",
       "_model_module_version": "1.5.0",
       "_model_name": "CheckboxModel",
       "_view_count": null,
       "_view_module": "@jupyter-widgets/controls",
       "_view_module_version": "1.5.0",
       "_view_name": "CheckboxView",
       "description": "Show based on class",
       "description_tooltip": null,
       "disabled": false,
       "indent": true,
       "layout": "IPY_MODEL_395b16bd41cb4389bc3c379293fdf63a",
       "style": "IPY_MODEL_63ea49df23814feeb5df4bd0e6b76b1b",
       "value": false
      }
     },
     "142e636109404f68abb85d13fadf0609": {
      "model_module": "@jupyter-widgets/controls",
      "model_module_version": "1.5.0",
      "model_name": "VBoxModel",
      "state": {
       "_dom_classes": [
        "widget-interact"
       ],
       "_model_module": "@jupyter-widgets/controls",
       "_model_module_version": "1.5.0",
       "_model_name": "VBoxModel",
       "_view_count": null,
       "_view_module": "@jupyter-widgets/controls",
       "_view_module_version": "1.5.0",
       "_view_name": "VBoxView",
       "box_style": "",
       "children": [
        "IPY_MODEL_0caad412dea0422ba699301ad68dd9a5",
        "IPY_MODEL_10252b3a76854a64892efb3547ca121a",
        "IPY_MODEL_c511f7b4906341d9a9c047cd4f3773e3"
       ],
       "layout": "IPY_MODEL_70899acb80eb4872854d1f02560a5606"
      }
     },
     "26525f568b4641cb86baba468eebb512": {
      "model_module": "@jupyter-widgets/base",
      "model_module_version": "1.2.0",
      "model_name": "LayoutModel",
      "state": {
       "_model_module": "@jupyter-widgets/base",
       "_model_module_version": "1.2.0",
       "_model_name": "LayoutModel",
       "_view_count": null,
       "_view_module": "@jupyter-widgets/base",
       "_view_module_version": "1.2.0",
       "_view_name": "LayoutView",
       "align_content": null,
       "align_items": null,
       "align_self": null,
       "border": null,
       "bottom": null,
       "display": null,
       "flex": null,
       "flex_flow": null,
       "grid_area": null,
       "grid_auto_columns": null,
       "grid_auto_flow": null,
       "grid_auto_rows": null,
       "grid_column": null,
       "grid_gap": null,
       "grid_row": null,
       "grid_template_areas": null,
       "grid_template_columns": null,
       "grid_template_rows": null,
       "height": null,
       "justify_content": null,
       "justify_items": null,
       "left": null,
       "margin": null,
       "max_height": null,
       "max_width": null,
       "min_height": null,
       "min_width": null,
       "object_fit": null,
       "object_position": null,
       "order": null,
       "overflow": null,
       "overflow_x": null,
       "overflow_y": null,
       "padding": null,
       "right": null,
       "top": null,
       "visibility": null,
       "width": null
      }
     },
     "395b16bd41cb4389bc3c379293fdf63a": {
      "model_module": "@jupyter-widgets/base",
      "model_module_version": "1.2.0",
      "model_name": "LayoutModel",
      "state": {
       "_model_module": "@jupyter-widgets/base",
       "_model_module_version": "1.2.0",
       "_model_name": "LayoutModel",
       "_view_count": null,
       "_view_module": "@jupyter-widgets/base",
       "_view_module_version": "1.2.0",
       "_view_name": "LayoutView",
       "align_content": null,
       "align_items": null,
       "align_self": null,
       "border": null,
       "bottom": null,
       "display": null,
       "flex": null,
       "flex_flow": null,
       "grid_area": null,
       "grid_auto_columns": null,
       "grid_auto_flow": null,
       "grid_auto_rows": null,
       "grid_column": null,
       "grid_gap": null,
       "grid_row": null,
       "grid_template_areas": null,
       "grid_template_columns": null,
       "grid_template_rows": null,
       "height": null,
       "justify_content": null,
       "justify_items": null,
       "left": null,
       "margin": null,
       "max_height": null,
       "max_width": null,
       "min_height": null,
       "min_width": null,
       "object_fit": null,
       "object_position": null,
       "order": null,
       "overflow": null,
       "overflow_x": null,
       "overflow_y": null,
       "padding": null,
       "right": null,
       "top": null,
       "visibility": null,
       "width": null
      }
     },
     "4a19231ef5694aa38a3b057dbf209efb": {
      "model_module": "@jupyter-widgets/base",
      "model_module_version": "1.2.0",
      "model_name": "LayoutModel",
      "state": {
       "_model_module": "@jupyter-widgets/base",
       "_model_module_version": "1.2.0",
       "_model_name": "LayoutModel",
       "_view_count": null,
       "_view_module": "@jupyter-widgets/base",
       "_view_module_version": "1.2.0",
       "_view_name": "LayoutView",
       "align_content": null,
       "align_items": null,
       "align_self": null,
       "border": null,
       "bottom": null,
       "display": null,
       "flex": null,
       "flex_flow": null,
       "grid_area": null,
       "grid_auto_columns": null,
       "grid_auto_flow": null,
       "grid_auto_rows": null,
       "grid_column": null,
       "grid_gap": null,
       "grid_row": null,
       "grid_template_areas": null,
       "grid_template_columns": null,
       "grid_template_rows": null,
       "height": null,
       "justify_content": null,
       "justify_items": null,
       "left": null,
       "margin": null,
       "max_height": null,
       "max_width": null,
       "min_height": null,
       "min_width": null,
       "object_fit": null,
       "object_position": null,
       "order": null,
       "overflow": null,
       "overflow_x": null,
       "overflow_y": null,
       "padding": null,
       "right": null,
       "top": null,
       "visibility": null,
       "width": null
      }
     },
     "63ea49df23814feeb5df4bd0e6b76b1b": {
      "model_module": "@jupyter-widgets/controls",
      "model_module_version": "1.5.0",
      "model_name": "DescriptionStyleModel",
      "state": {
       "_model_module": "@jupyter-widgets/controls",
       "_model_module_version": "1.5.0",
       "_model_name": "DescriptionStyleModel",
       "_view_count": null,
       "_view_module": "@jupyter-widgets/base",
       "_view_module_version": "1.2.0",
       "_view_name": "StyleView",
       "description_width": ""
      }
     },
     "70899acb80eb4872854d1f02560a5606": {
      "model_module": "@jupyter-widgets/base",
      "model_module_version": "1.2.0",
      "model_name": "LayoutModel",
      "state": {
       "_model_module": "@jupyter-widgets/base",
       "_model_module_version": "1.2.0",
       "_model_name": "LayoutModel",
       "_view_count": null,
       "_view_module": "@jupyter-widgets/base",
       "_view_module_version": "1.2.0",
       "_view_name": "LayoutView",
       "align_content": null,
       "align_items": null,
       "align_self": null,
       "border": null,
       "bottom": null,
       "display": null,
       "flex": null,
       "flex_flow": null,
       "grid_area": null,
       "grid_auto_columns": null,
       "grid_auto_flow": null,
       "grid_auto_rows": null,
       "grid_column": null,
       "grid_gap": null,
       "grid_row": null,
       "grid_template_areas": null,
       "grid_template_columns": null,
       "grid_template_rows": null,
       "height": null,
       "justify_content": null,
       "justify_items": null,
       "left": null,
       "margin": null,
       "max_height": null,
       "max_width": null,
       "min_height": null,
       "min_width": null,
       "object_fit": null,
       "object_position": null,
       "order": null,
       "overflow": null,
       "overflow_x": null,
       "overflow_y": null,
       "padding": null,
       "right": null,
       "top": null,
       "visibility": null,
       "width": null
      }
     },
     "c511f7b4906341d9a9c047cd4f3773e3": {
      "model_module": "@jupyter-widgets/output",
      "model_module_version": "1.0.0",
      "model_name": "OutputModel",
      "state": {
       "_dom_classes": [],
       "_model_module": "@jupyter-widgets/output",
       "_model_module_version": "1.0.0",
       "_model_name": "OutputModel",
       "_view_count": null,
       "_view_module": "@jupyter-widgets/output",
       "_view_module_version": "1.0.0",
       "_view_name": "OutputView",
       "layout": "IPY_MODEL_4a19231ef5694aa38a3b057dbf209efb",
       "msg_id": "",
       "outputs": [
        {
         "data": {
          "image/png": "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\n",
          "text/plain": "<Figure size 640x480 with 1 Axes>"
         },
         "metadata": {},
         "output_type": "display_data"
        }
       ]
      }
     }
    },
    "version_major": 2,
    "version_minor": 0
   }
  }
 },
 "nbformat": 4,
 "nbformat_minor": 5
}
